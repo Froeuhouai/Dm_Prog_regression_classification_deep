{
 "cells": [
  {
   "attachments": {},
   "cell_type": "markdown",
   "metadata": {},
   "source": [
    "# Contexte\n",
    "Le jeu vidéo est de nos jours l'industrie culturelle la plus lucrative, surpassant largement depuis plusieurs années le cinéma.\n",
    "Cette "
   ]
  },
  {
   "attachments": {},
   "cell_type": "markdown",
   "metadata": {},
   "source": [
    "# Imports"
   ]
  },
  {
   "cell_type": "code",
   "execution_count": 2,
   "metadata": {},
   "outputs": [],
   "source": [
    "import pandas as pd\n",
    "import numpy as np\n",
    "import matplotlib.pyplot as plt\n",
    "import seaborn as sns\n",
    "from sklearn.model_selection import train_test_split\n",
    "from sklearn.linear_model import LinearRegression\n",
    "from sklearn.compose import ColumnTransformer\n",
    "from sklearn.preprocessing import OneHotEncoder\n",
    "from sklearn.linear_model import Ridge, Lasso\n",
    "from sklearn.model_selection import GridSearchCV\n",
    "from sklearn.pipeline import Pipeline\n",
    "from sklearn.ensemble import RandomForestRegressor\n",
    "from sklearn.feature_selection import SelectKBest, f_regression, RFE\n",
    "\n",
    "from sklearn.metrics import mean_absolute_error, mean_squared_error, r2_score\n"
   ]
  },
  {
   "attachments": {},
   "cell_type": "markdown",
   "metadata": {},
   "source": [
    "# Lecture du fichier et nettoyage des données"
   ]
  },
  {
   "cell_type": "code",
   "execution_count": 3,
   "metadata": {},
   "outputs": [
    {
     "name": "stdout",
     "output_type": "stream",
     "text": [
      "voici le nombre de données manquante par colonne du tableau\n",
      "nous passons de 16719 jeux à 6825 jeux dans notre jeu de données en enlevant les données manquantes\n"
     ]
    }
   ],
   "source": [
    "df = pd.read_csv('Video_Games_Sales_as_at_22_Dec_2016.csv')\n",
    "taille_origine = len(df)\n",
    "print(\"voici le nombre de données manquante par colonne du tableau\")\n",
    "#ceci est logique, le site internet metacritic a peu d'informations sur les jeux vidéos un peu datés\n",
    "#supprimons les lignes ayant des données manquantes\n",
    "df = df.dropna()\n",
    "taille_sans_na=len(df) \n",
    "print(f\"nous passons de {taille_origine} jeux à {taille_sans_na} jeux dans notre jeu de données en enlevant les données manquantes\")\n"
   ]
  },
  {
   "attachments": {},
   "cell_type": "markdown",
   "metadata": {},
   "source": [
    "### Enlever duplicata"
   ]
  },
  {
   "cell_type": "code",
   "execution_count": 4,
   "metadata": {},
   "outputs": [
    {
     "name": "stdout",
     "output_type": "stream",
     "text": [
      "                                    Name Platform  Year_of_Release     Genre   \n",
      "23                    Grand Theft Auto V     X360           2013.0    Action  \\\n",
      "35            Call of Duty: Black Ops II     X360           2012.0   Shooter   \n",
      "37        Call of Duty: Modern Warfare 3      PS3           2011.0   Shooter   \n",
      "41               Call of Duty: Black Ops      PS3           2010.0   Shooter   \n",
      "42                    Grand Theft Auto V      PS4           2014.0    Action   \n",
      "...                                  ...      ...              ...       ...   \n",
      "16601        Saints Row: Gat out of Hell     XOne           2015.0    Action   \n",
      "16618           Legacy of Kain: Defiance       PC           2003.0    Action   \n",
      "16634           Sébastien Loeb Rally Evo     XOne           2016.0    Racing   \n",
      "16677     Mortal Kombat: Deadly Alliance      GBA           2002.0  Fighting   \n",
      "16696  Metal Gear Solid V: Ground Zeroes       PC           2014.0    Action   \n",
      "\n",
      "                          Publisher  NA_Sales  EU_Sales  JP_Sales   \n",
      "23             Take-Two Interactive      9.66      5.14      0.06  \\\n",
      "35                       Activision      8.25      4.24      0.07   \n",
      "37                       Activision      5.54      5.73      0.49   \n",
      "41                       Activision      5.99      4.37      0.48   \n",
      "42             Take-Two Interactive      3.96      6.31      0.38   \n",
      "...                             ...       ...       ...       ...   \n",
      "16601                   Deep Silver      0.00      0.01      0.00   \n",
      "16618             Eidos Interactive      0.00      0.01      0.00   \n",
      "16634               Milestone S.r.l      0.00      0.01      0.00   \n",
      "16677                  Midway Games      0.01      0.00      0.00   \n",
      "16696  Konami Digital Entertainment      0.00      0.01      0.00   \n",
      "\n",
      "       Other_Sales  Global_Sales  Critic_Score  Critic_Count User_Score   \n",
      "23            1.41         16.27          97.0          58.0        8.1  \\\n",
      "35            1.12         13.67          83.0          73.0        4.8   \n",
      "37            1.57         13.32          88.0          39.0        3.2   \n",
      "41            1.79         12.63          88.0          58.0        6.4   \n",
      "42            1.97         12.61          97.0          66.0        8.3   \n",
      "...            ...           ...           ...           ...        ...   \n",
      "16601         0.00          0.01          65.0          16.0          6   \n",
      "16618         0.00          0.01          70.0          11.0        8.7   \n",
      "16634         0.00          0.01          63.0           8.0        8.2   \n",
      "16677         0.00          0.01          81.0          12.0        8.8   \n",
      "16696         0.00          0.01          80.0          20.0        7.6   \n",
      "\n",
      "       User_Count                          Developer Rating  \n",
      "23         3711.0                     Rockstar North      M  \n",
      "35         2256.0                           Treyarch      M  \n",
      "37         5234.0  Infinity Ward, Sledgehammer Games      M  \n",
      "41         1094.0                           Treyarch      M  \n",
      "42         2899.0                     Rockstar North      M  \n",
      "...           ...                                ...    ...  \n",
      "16601        27.0                      Volition Inc.      M  \n",
      "16618        67.0                    Nixxes Software      M  \n",
      "16634        22.0                    Milestone S.r.l      E  \n",
      "16677         9.0                    Criterion Games      M  \n",
      "16696       412.0                 Kojima Productions      M  \n",
      "\n",
      "[2448 rows x 16 columns]\n"
     ]
    }
   ],
   "source": [
    "print(df.loc[df.duplicated(subset=['Name'])])\n",
    "#tous les jeux étant sortis sur plusieurs plateforme apparaissent avec cette requête"
   ]
  },
  {
   "cell_type": "code",
   "execution_count": 5,
   "metadata": {},
   "outputs": [
    {
     "data": {
      "text/html": [
       "<div>\n",
       "<style scoped>\n",
       "    .dataframe tbody tr th:only-of-type {\n",
       "        vertical-align: middle;\n",
       "    }\n",
       "\n",
       "    .dataframe tbody tr th {\n",
       "        vertical-align: top;\n",
       "    }\n",
       "\n",
       "    .dataframe thead th {\n",
       "        text-align: right;\n",
       "    }\n",
       "</style>\n",
       "<table border=\"1\" class=\"dataframe\">\n",
       "  <thead>\n",
       "    <tr style=\"text-align: right;\">\n",
       "      <th></th>\n",
       "      <th>Name</th>\n",
       "      <th>Platform</th>\n",
       "      <th>Year_of_Release</th>\n",
       "      <th>Genre</th>\n",
       "      <th>Publisher</th>\n",
       "      <th>NA_Sales</th>\n",
       "      <th>EU_Sales</th>\n",
       "      <th>JP_Sales</th>\n",
       "      <th>Other_Sales</th>\n",
       "      <th>Global_Sales</th>\n",
       "      <th>Critic_Score</th>\n",
       "      <th>Critic_Count</th>\n",
       "      <th>User_Score</th>\n",
       "      <th>User_Count</th>\n",
       "      <th>Developer</th>\n",
       "      <th>Rating</th>\n",
       "    </tr>\n",
       "  </thead>\n",
       "  <tbody>\n",
       "    <tr>\n",
       "      <th>1591</th>\n",
       "      <td>Need for Speed: Most Wanted</td>\n",
       "      <td>X360</td>\n",
       "      <td>2005.0</td>\n",
       "      <td>Racing</td>\n",
       "      <td>Electronic Arts</td>\n",
       "      <td>1.0</td>\n",
       "      <td>0.13</td>\n",
       "      <td>0.02</td>\n",
       "      <td>0.10</td>\n",
       "      <td>1.25</td>\n",
       "      <td>83.0</td>\n",
       "      <td>54.0</td>\n",
       "      <td>8.5</td>\n",
       "      <td>134.0</td>\n",
       "      <td>EA Canada</td>\n",
       "      <td>T</td>\n",
       "    </tr>\n",
       "    <tr>\n",
       "      <th>11716</th>\n",
       "      <td>Need for Speed: Most Wanted</td>\n",
       "      <td>PC</td>\n",
       "      <td>2012.0</td>\n",
       "      <td>Racing</td>\n",
       "      <td>Electronic Arts</td>\n",
       "      <td>0.0</td>\n",
       "      <td>0.06</td>\n",
       "      <td>0.00</td>\n",
       "      <td>0.02</td>\n",
       "      <td>0.08</td>\n",
       "      <td>82.0</td>\n",
       "      <td>19.0</td>\n",
       "      <td>8.5</td>\n",
       "      <td>525.0</td>\n",
       "      <td>Black Box</td>\n",
       "      <td>T</td>\n",
       "    </tr>\n",
       "    <tr>\n",
       "      <th>16233</th>\n",
       "      <td>Madden NFL 13</td>\n",
       "      <td>PS3</td>\n",
       "      <td>2012.0</td>\n",
       "      <td>Sports</td>\n",
       "      <td>Electronic Arts</td>\n",
       "      <td>0.0</td>\n",
       "      <td>0.01</td>\n",
       "      <td>0.00</td>\n",
       "      <td>0.00</td>\n",
       "      <td>0.01</td>\n",
       "      <td>83.0</td>\n",
       "      <td>22.0</td>\n",
       "      <td>5.5</td>\n",
       "      <td>101.0</td>\n",
       "      <td>EA Tiburon</td>\n",
       "      <td>E</td>\n",
       "    </tr>\n",
       "  </tbody>\n",
       "</table>\n",
       "</div>"
      ],
      "text/plain": [
       "                              Name Platform  Year_of_Release   Genre   \n",
       "1591   Need for Speed: Most Wanted     X360           2005.0  Racing  \\\n",
       "11716  Need for Speed: Most Wanted       PC           2012.0  Racing   \n",
       "16233                Madden NFL 13      PS3           2012.0  Sports   \n",
       "\n",
       "             Publisher  NA_Sales  EU_Sales  JP_Sales  Other_Sales   \n",
       "1591   Electronic Arts       1.0      0.13      0.02         0.10  \\\n",
       "11716  Electronic Arts       0.0      0.06      0.00         0.02   \n",
       "16233  Electronic Arts       0.0      0.01      0.00         0.00   \n",
       "\n",
       "       Global_Sales  Critic_Score  Critic_Count User_Score  User_Count   \n",
       "1591           1.25          83.0          54.0        8.5       134.0  \\\n",
       "11716          0.08          82.0          19.0        8.5       525.0   \n",
       "16233          0.01          83.0          22.0        5.5       101.0   \n",
       "\n",
       "        Developer Rating  \n",
       "1591    EA Canada      T  \n",
       "11716   Black Box      T  \n",
       "16233  EA Tiburon      E  "
      ]
     },
     "execution_count": 5,
     "metadata": {},
     "output_type": "execute_result"
    }
   ],
   "source": [
    "df.loc[df.duplicated(subset=['Name','Platform'])]\n"
   ]
  },
  {
   "cell_type": "code",
   "execution_count": 6,
   "metadata": {},
   "outputs": [
    {
     "data": {
      "text/html": [
       "<div>\n",
       "<style scoped>\n",
       "    .dataframe tbody tr th:only-of-type {\n",
       "        vertical-align: middle;\n",
       "    }\n",
       "\n",
       "    .dataframe tbody tr th {\n",
       "        vertical-align: top;\n",
       "    }\n",
       "\n",
       "    .dataframe thead th {\n",
       "        text-align: right;\n",
       "    }\n",
       "</style>\n",
       "<table border=\"1\" class=\"dataframe\">\n",
       "  <thead>\n",
       "    <tr style=\"text-align: right;\">\n",
       "      <th></th>\n",
       "      <th>Name</th>\n",
       "      <th>Platform</th>\n",
       "      <th>Year_of_Release</th>\n",
       "      <th>Genre</th>\n",
       "      <th>Publisher</th>\n",
       "      <th>NA_Sales</th>\n",
       "      <th>EU_Sales</th>\n",
       "      <th>JP_Sales</th>\n",
       "      <th>Other_Sales</th>\n",
       "      <th>Global_Sales</th>\n",
       "      <th>Critic_Score</th>\n",
       "      <th>Critic_Count</th>\n",
       "      <th>User_Score</th>\n",
       "      <th>User_Count</th>\n",
       "      <th>Developer</th>\n",
       "      <th>Rating</th>\n",
       "    </tr>\n",
       "  </thead>\n",
       "  <tbody>\n",
       "    <tr>\n",
       "      <th>253</th>\n",
       "      <td>Need for Speed: Most Wanted</td>\n",
       "      <td>PS2</td>\n",
       "      <td>2005.0</td>\n",
       "      <td>Racing</td>\n",
       "      <td>Electronic Arts</td>\n",
       "      <td>2.03</td>\n",
       "      <td>1.79</td>\n",
       "      <td>0.08</td>\n",
       "      <td>0.47</td>\n",
       "      <td>4.37</td>\n",
       "      <td>82.0</td>\n",
       "      <td>36.0</td>\n",
       "      <td>9.1</td>\n",
       "      <td>137.0</td>\n",
       "      <td>EA Canada</td>\n",
       "      <td>T</td>\n",
       "    </tr>\n",
       "    <tr>\n",
       "      <th>1190</th>\n",
       "      <td>Need for Speed: Most Wanted</td>\n",
       "      <td>X360</td>\n",
       "      <td>2012.0</td>\n",
       "      <td>Racing</td>\n",
       "      <td>Electronic Arts</td>\n",
       "      <td>0.62</td>\n",
       "      <td>0.78</td>\n",
       "      <td>0.01</td>\n",
       "      <td>0.15</td>\n",
       "      <td>1.56</td>\n",
       "      <td>83.0</td>\n",
       "      <td>54.0</td>\n",
       "      <td>8.5</td>\n",
       "      <td>134.0</td>\n",
       "      <td>EA Canada</td>\n",
       "      <td>T</td>\n",
       "    </tr>\n",
       "    <tr>\n",
       "      <th>1591</th>\n",
       "      <td>Need for Speed: Most Wanted</td>\n",
       "      <td>X360</td>\n",
       "      <td>2005.0</td>\n",
       "      <td>Racing</td>\n",
       "      <td>Electronic Arts</td>\n",
       "      <td>1.00</td>\n",
       "      <td>0.13</td>\n",
       "      <td>0.02</td>\n",
       "      <td>0.10</td>\n",
       "      <td>1.25</td>\n",
       "      <td>83.0</td>\n",
       "      <td>54.0</td>\n",
       "      <td>8.5</td>\n",
       "      <td>134.0</td>\n",
       "      <td>EA Canada</td>\n",
       "      <td>T</td>\n",
       "    </tr>\n",
       "    <tr>\n",
       "      <th>1998</th>\n",
       "      <td>Need for Speed: Most Wanted</td>\n",
       "      <td>XB</td>\n",
       "      <td>2005.0</td>\n",
       "      <td>Racing</td>\n",
       "      <td>Electronic Arts</td>\n",
       "      <td>0.53</td>\n",
       "      <td>0.46</td>\n",
       "      <td>0.00</td>\n",
       "      <td>0.05</td>\n",
       "      <td>1.04</td>\n",
       "      <td>83.0</td>\n",
       "      <td>32.0</td>\n",
       "      <td>8.8</td>\n",
       "      <td>29.0</td>\n",
       "      <td>EA Canada</td>\n",
       "      <td>T</td>\n",
       "    </tr>\n",
       "    <tr>\n",
       "      <th>3581</th>\n",
       "      <td>Need for Speed: Most Wanted</td>\n",
       "      <td>GC</td>\n",
       "      <td>2005.0</td>\n",
       "      <td>Racing</td>\n",
       "      <td>Electronic Arts</td>\n",
       "      <td>0.43</td>\n",
       "      <td>0.11</td>\n",
       "      <td>0.00</td>\n",
       "      <td>0.02</td>\n",
       "      <td>0.56</td>\n",
       "      <td>80.0</td>\n",
       "      <td>18.0</td>\n",
       "      <td>9.1</td>\n",
       "      <td>22.0</td>\n",
       "      <td>EA Canada</td>\n",
       "      <td>T</td>\n",
       "    </tr>\n",
       "    <tr>\n",
       "      <th>5973</th>\n",
       "      <td>Need for Speed: Most Wanted</td>\n",
       "      <td>PC</td>\n",
       "      <td>2005.0</td>\n",
       "      <td>Racing</td>\n",
       "      <td>Electronic Arts</td>\n",
       "      <td>0.02</td>\n",
       "      <td>0.23</td>\n",
       "      <td>0.00</td>\n",
       "      <td>0.04</td>\n",
       "      <td>0.29</td>\n",
       "      <td>82.0</td>\n",
       "      <td>19.0</td>\n",
       "      <td>8.5</td>\n",
       "      <td>525.0</td>\n",
       "      <td>Black Box</td>\n",
       "      <td>T</td>\n",
       "    </tr>\n",
       "    <tr>\n",
       "      <th>6411</th>\n",
       "      <td>Need for Speed: Most Wanted</td>\n",
       "      <td>DS</td>\n",
       "      <td>2005.0</td>\n",
       "      <td>Racing</td>\n",
       "      <td>Electronic Arts</td>\n",
       "      <td>0.24</td>\n",
       "      <td>0.01</td>\n",
       "      <td>0.00</td>\n",
       "      <td>0.02</td>\n",
       "      <td>0.27</td>\n",
       "      <td>45.0</td>\n",
       "      <td>4.0</td>\n",
       "      <td>6.1</td>\n",
       "      <td>22.0</td>\n",
       "      <td>EA Canada</td>\n",
       "      <td>E</td>\n",
       "    </tr>\n",
       "    <tr>\n",
       "      <th>11716</th>\n",
       "      <td>Need for Speed: Most Wanted</td>\n",
       "      <td>PC</td>\n",
       "      <td>2012.0</td>\n",
       "      <td>Racing</td>\n",
       "      <td>Electronic Arts</td>\n",
       "      <td>0.00</td>\n",
       "      <td>0.06</td>\n",
       "      <td>0.00</td>\n",
       "      <td>0.02</td>\n",
       "      <td>0.08</td>\n",
       "      <td>82.0</td>\n",
       "      <td>19.0</td>\n",
       "      <td>8.5</td>\n",
       "      <td>525.0</td>\n",
       "      <td>Black Box</td>\n",
       "      <td>T</td>\n",
       "    </tr>\n",
       "  </tbody>\n",
       "</table>\n",
       "</div>"
      ],
      "text/plain": [
       "                              Name Platform  Year_of_Release   Genre   \n",
       "253    Need for Speed: Most Wanted      PS2           2005.0  Racing  \\\n",
       "1190   Need for Speed: Most Wanted     X360           2012.0  Racing   \n",
       "1591   Need for Speed: Most Wanted     X360           2005.0  Racing   \n",
       "1998   Need for Speed: Most Wanted       XB           2005.0  Racing   \n",
       "3581   Need for Speed: Most Wanted       GC           2005.0  Racing   \n",
       "5973   Need for Speed: Most Wanted       PC           2005.0  Racing   \n",
       "6411   Need for Speed: Most Wanted       DS           2005.0  Racing   \n",
       "11716  Need for Speed: Most Wanted       PC           2012.0  Racing   \n",
       "\n",
       "             Publisher  NA_Sales  EU_Sales  JP_Sales  Other_Sales   \n",
       "253    Electronic Arts      2.03      1.79      0.08         0.47  \\\n",
       "1190   Electronic Arts      0.62      0.78      0.01         0.15   \n",
       "1591   Electronic Arts      1.00      0.13      0.02         0.10   \n",
       "1998   Electronic Arts      0.53      0.46      0.00         0.05   \n",
       "3581   Electronic Arts      0.43      0.11      0.00         0.02   \n",
       "5973   Electronic Arts      0.02      0.23      0.00         0.04   \n",
       "6411   Electronic Arts      0.24      0.01      0.00         0.02   \n",
       "11716  Electronic Arts      0.00      0.06      0.00         0.02   \n",
       "\n",
       "       Global_Sales  Critic_Score  Critic_Count User_Score  User_Count   \n",
       "253            4.37          82.0          36.0        9.1       137.0  \\\n",
       "1190           1.56          83.0          54.0        8.5       134.0   \n",
       "1591           1.25          83.0          54.0        8.5       134.0   \n",
       "1998           1.04          83.0          32.0        8.8        29.0   \n",
       "3581           0.56          80.0          18.0        9.1        22.0   \n",
       "5973           0.29          82.0          19.0        8.5       525.0   \n",
       "6411           0.27          45.0           4.0        6.1        22.0   \n",
       "11716          0.08          82.0          19.0        8.5       525.0   \n",
       "\n",
       "       Developer Rating  \n",
       "253    EA Canada      T  \n",
       "1190   EA Canada      T  \n",
       "1591   EA Canada      T  \n",
       "1998   EA Canada      T  \n",
       "3581   EA Canada      T  \n",
       "5973   Black Box      T  \n",
       "6411   EA Canada      E  \n",
       "11716  Black Box      T  "
      ]
     },
     "execution_count": 6,
     "metadata": {},
     "output_type": "execute_result"
    }
   ],
   "source": [
    "df[df[\"Name\"]==\"Need for Speed: Most Wanted\"]\n",
    "#Need for speed most wanted a eu un remake en 2012, mais sinon pas de données dupliquées"
   ]
  },
  {
   "cell_type": "code",
   "execution_count": 7,
   "metadata": {},
   "outputs": [],
   "source": [
    "df[df[\"Name\"]==\"Madden NFL 13\"]\n",
    "#On a deux entrées pour Madden NFL 13 sur la PS3, supprimons celle qui n'a aucune vente\n",
    "df.drop(df.loc[(df['NA_Sales'] == 0) & (df[\"Name\"] == \"Madden NFL 13\")].index, inplace = True)"
   ]
  },
  {
   "cell_type": "markdown",
   "metadata": {},
   "source": []
  },
  {
   "cell_type": "code",
   "execution_count": 8,
   "metadata": {},
   "outputs": [
    {
     "data": {
      "text/plain": [
       "Name                object\n",
       "Platform            object\n",
       "Year_of_Release      int32\n",
       "Genre               object\n",
       "Publisher           object\n",
       "NA_Sales           float64\n",
       "EU_Sales           float64\n",
       "JP_Sales           float64\n",
       "Other_Sales        float64\n",
       "Global_Sales       float64\n",
       "Critic_Score       float64\n",
       "Critic_Count       float64\n",
       "User_Score         float64\n",
       "User_Count         float64\n",
       "Developer           object\n",
       "Rating              object\n",
       "dtype: object"
      ]
     },
     "execution_count": 8,
     "metadata": {},
     "output_type": "execute_result"
    }
   ],
   "source": [
    "df.dtypes\n",
    "df[[\"Name\",\"Platform\",\"Genre\",\"Publisher\",\"Developer\",\"Rating\"]] = df[[\"Name\",\"Platform\",\"Genre\",\"Publisher\",\"Developer\",\"Rating\"]].astype(str)\n",
    "df[\"User_Score\"] = df[\"User_Score\"].astype(float)\n",
    "df[\"Year_of_Release\"] = df[\"Year_of_Release\"].astype(int)\n",
    "df.dtypes"
   ]
  },
  {
   "cell_type": "code",
   "execution_count": 9,
   "metadata": {},
   "outputs": [
    {
     "data": {
      "text/plain": [
       "<Axes: >"
      ]
     },
     "execution_count": 9,
     "metadata": {},
     "output_type": "execute_result"
    },
    {
     "data": {
      "image/png": "[encoded data removed]",
      "text/plain": [
       "<Figure size 1000x1000 with 2 Axes>"
      ]
     },
     "metadata": {},
     "output_type": "display_data"
    }
   ],
   "source": [
    "fig = plt.figure(figsize=(10,10))\n",
    "corr=df.corr(numeric_only=True)\n",
    "sns.heatmap(corr,annot=True,  cmap='YlOrRd')\n",
    "#corrélation entre les variables"
   ]
  },
  {
   "attachments": {},
   "cell_type": "markdown",
   "metadata": {},
   "source": [
    "On observe sans surprise que les colonnes de ventes (ventes aux US, en Europe, au japon) sont très corrélées entre elles (le Japon un peu moins car ce marché est réputé pour avoir ses particularités) nous nous interesserons uniquement aux ventes globales dans notre modèle, et donc **supprimerons les autres valeurs de vente**\n",
    "\n",
    "User_Score et Critic_Score sont aussi assez corrélées, un bon jeu sera souvent apprécié par les critique professionnels et par les joueurs normaux en même temps"
   ]
  },
  {
   "cell_type": "code",
   "execution_count": null,
   "metadata": {},
   "outputs": [],
   "source": [
    "#On supprime du jeu de données les ventes par régions. On supprime aussi le nom des jeux qui est une donnée inutisable\n",
    "df.drop(['Global_Sales','NA_Sales','EU_Sales','JP_Sales',\"Other_Sales\",\"Name\"], axis=1,inplace=True)"
   ]
  },
  {
   "cell_type": "code",
   "execution_count": 10,
   "metadata": {},
   "outputs": [
    {
     "name": "stdout",
     "output_type": "stream",
     "text": [
      "20 éditeurs represent 90% des ventes\n",
      "178 devs representent 80% of sales\n"
     ]
    }
   ],
   "source": [
    "# Somme cumulative des ventes par année\n",
    "sales_by_publisher = df.groupby('Publisher')['Global_Sales'].sum().sort_values(ascending=False)\n",
    "cumulative_sales = sales_by_publisher.cumsum()\n",
    "total_sales = cumulative_sales.max()\n",
    "\n",
    "# Determine how many publishers represent 90% of sales\n",
    "top_publishers = (cumulative_sales / total_sales).lt(0.9).sum() + 1\n",
    "\n",
    "print(f'{top_publishers} éditeurs represent 90% des ventes')\n",
    "\n",
    "#Même chose mais avec les developpeurs\n",
    "sales_by_dev = df.groupby('Developer')['Global_Sales'].sum().sort_values(ascending=False)\n",
    "cumulative_sales_dev = sales_by_dev.cumsum()\n",
    "total_sales_dev = cumulative_sales.max()\n",
    "\n",
    "top_dev = (cumulative_sales_dev / total_sales_dev).lt(0.8).sum() + 1\n",
    "print(f'{top_dev} devs representent 80% des ventes')"
   ]
  },
  {
   "attachments": {},
   "cell_type": "markdown",
   "metadata": {},
   "source": [
    "On cherche à réduire la dimension de notre réponse en mettant les éditeurs et developpeurs vendant le moins dans la catégorie \"autres"
   ]
  },
  {
   "cell_type": "code",
   "execution_count": 15,
   "metadata": {},
   "outputs": [],
   "source": [
    "df['Developer'] = df['Developer'].apply(lambda s: s if s not in sales_by_dev[top_dev:] else 'Autres')\n",
    "df['Publisher'] = df['Publisher'].apply(lambda s: s if s not in sales_by_publisher[top_publishers:] else 'Autres')"
   ]
  },
  {
   "cell_type": "code",
   "execution_count": 12,
   "metadata": {},
   "outputs": [
    {
     "name": "stderr",
     "output_type": "stream",
     "text": [
      "c:\\Users\\amine\\OneDrive\\Bureau\\IODAA\\venv_python\\new_env\\Lib\\site-packages\\sklearn\\preprocessing\\_encoders.py:868: FutureWarning: `sparse` was renamed to `sparse_output` in version 1.2 and will be removed in 1.4. `sparse_output` is ignored unless you leave `sparse` to its default value.\n",
      "  warnings.warn(\n"
     ]
    }
   ],
   "source": [
    "ct = ColumnTransformer(\n",
    "    transformers=[\n",
    "        (\"ohe\", OneHotEncoder(sparse=False), [\"Platform\", \"Developer\",\"Genre\",\"Rating\",\"Publisher\"]),\n",
    "    ],\n",
    "    remainder=\"passthrough\",).set_output(transform=\"pandas\")\n",
    "df_ohe=ct.fit_transform(df)\n"
   ]
  },
  {
   "cell_type": "code",
   "execution_count": 13,
   "metadata": {},
   "outputs": [],
   "source": []
  },
  {
   "cell_type": "code",
   "execution_count": 14,
   "metadata": {},
   "outputs": [
    {
     "ename": "KeyError",
     "evalue": "\"['remainder__NA_Sales', 'remainder__EU_Sales', 'remainder__JP_Sales', 'remainder__Other_Sales'] not found in axis\"",
     "output_type": "error",
     "traceback": [
      "\u001b[1;31m---------------------------------------------------------------------------\u001b[0m",
      "\u001b[1;31mKeyError\u001b[0m                                  Traceback (most recent call last)",
      "Cell \u001b[1;32mIn[14], line 2\u001b[0m\n\u001b[0;32m      1\u001b[0m \u001b[39m# Prepare the data\u001b[39;00m\n\u001b[1;32m----> 2\u001b[0m X \u001b[39m=\u001b[39m df_ohe\u001b[39m.\u001b[39;49mdrop([\u001b[39m'\u001b[39;49m\u001b[39mremainder__Global_Sales\u001b[39;49m\u001b[39m'\u001b[39;49m,\u001b[39m'\u001b[39;49m\u001b[39mremainder__NA_Sales\u001b[39;49m\u001b[39m'\u001b[39;49m,\u001b[39m'\u001b[39;49m\u001b[39mremainder__EU_Sales\u001b[39;49m\u001b[39m'\u001b[39;49m,\u001b[39m'\u001b[39;49m\u001b[39mremainder__JP_Sales\u001b[39;49m\u001b[39m'\u001b[39;49m,\u001b[39m\"\u001b[39;49m\u001b[39mremainder__Other_Sales\u001b[39;49m\u001b[39m\"\u001b[39;49m], axis\u001b[39m=\u001b[39;49m\u001b[39m1\u001b[39;49m)\n\u001b[0;32m      4\u001b[0m X\u001b[39m=\u001b[39mdf_ohe\u001b[39m.\u001b[39mdrop(\u001b[39m'\u001b[39m\u001b[39mremainder__Name\u001b[39m\u001b[39m'\u001b[39m, axis\u001b[39m=\u001b[39m\u001b[39m1\u001b[39m)\n\u001b[0;32m      5\u001b[0m y \u001b[39m=\u001b[39m df_ohe[\u001b[39m'\u001b[39m\u001b[39mremainder__Global_Sales\u001b[39m\u001b[39m'\u001b[39m]\n",
      "File \u001b[1;32mc:\\Users\\amine\\OneDrive\\Bureau\\IODAA\\venv_python\\new_env\\Lib\\site-packages\\pandas\\core\\frame.py:5266\u001b[0m, in \u001b[0;36mDataFrame.drop\u001b[1;34m(self, labels, axis, index, columns, level, inplace, errors)\u001b[0m\n\u001b[0;32m   5118\u001b[0m \u001b[39mdef\u001b[39;00m \u001b[39mdrop\u001b[39m(\n\u001b[0;32m   5119\u001b[0m     \u001b[39mself\u001b[39m,\n\u001b[0;32m   5120\u001b[0m     labels: IndexLabel \u001b[39m=\u001b[39m \u001b[39mNone\u001b[39;00m,\n\u001b[1;32m   (...)\u001b[0m\n\u001b[0;32m   5127\u001b[0m     errors: IgnoreRaise \u001b[39m=\u001b[39m \u001b[39m\"\u001b[39m\u001b[39mraise\u001b[39m\u001b[39m\"\u001b[39m,\n\u001b[0;32m   5128\u001b[0m ) \u001b[39m-\u001b[39m\u001b[39m>\u001b[39m DataFrame \u001b[39m|\u001b[39m \u001b[39mNone\u001b[39;00m:\n\u001b[0;32m   5129\u001b[0m \u001b[39m    \u001b[39m\u001b[39m\"\"\"\u001b[39;00m\n\u001b[0;32m   5130\u001b[0m \u001b[39m    Drop specified labels from rows or columns.\u001b[39;00m\n\u001b[0;32m   5131\u001b[0m \n\u001b[1;32m   (...)\u001b[0m\n\u001b[0;32m   5264\u001b[0m \u001b[39m            weight  1.0     0.8\u001b[39;00m\n\u001b[0;32m   5265\u001b[0m \u001b[39m    \"\"\"\u001b[39;00m\n\u001b[1;32m-> 5266\u001b[0m     \u001b[39mreturn\u001b[39;00m \u001b[39msuper\u001b[39;49m()\u001b[39m.\u001b[39;49mdrop(\n\u001b[0;32m   5267\u001b[0m         labels\u001b[39m=\u001b[39;49mlabels,\n\u001b[0;32m   5268\u001b[0m         axis\u001b[39m=\u001b[39;49maxis,\n\u001b[0;32m   5269\u001b[0m         index\u001b[39m=\u001b[39;49mindex,\n\u001b[0;32m   5270\u001b[0m         columns\u001b[39m=\u001b[39;49mcolumns,\n\u001b[0;32m   5271\u001b[0m         level\u001b[39m=\u001b[39;49mlevel,\n\u001b[0;32m   5272\u001b[0m         inplace\u001b[39m=\u001b[39;49minplace,\n\u001b[0;32m   5273\u001b[0m         errors\u001b[39m=\u001b[39;49merrors,\n\u001b[0;32m   5274\u001b[0m     )\n",
      "File \u001b[1;32mc:\\Users\\amine\\OneDrive\\Bureau\\IODAA\\venv_python\\new_env\\Lib\\site-packages\\pandas\\core\\generic.py:4549\u001b[0m, in \u001b[0;36mNDFrame.drop\u001b[1;34m(self, labels, axis, index, columns, level, inplace, errors)\u001b[0m\n\u001b[0;32m   4547\u001b[0m \u001b[39mfor\u001b[39;00m axis, labels \u001b[39min\u001b[39;00m axes\u001b[39m.\u001b[39mitems():\n\u001b[0;32m   4548\u001b[0m     \u001b[39mif\u001b[39;00m labels \u001b[39mis\u001b[39;00m \u001b[39mnot\u001b[39;00m \u001b[39mNone\u001b[39;00m:\n\u001b[1;32m-> 4549\u001b[0m         obj \u001b[39m=\u001b[39m obj\u001b[39m.\u001b[39;49m_drop_axis(labels, axis, level\u001b[39m=\u001b[39;49mlevel, errors\u001b[39m=\u001b[39;49merrors)\n\u001b[0;32m   4551\u001b[0m \u001b[39mif\u001b[39;00m inplace:\n\u001b[0;32m   4552\u001b[0m     \u001b[39mself\u001b[39m\u001b[39m.\u001b[39m_update_inplace(obj)\n",
      "File \u001b[1;32mc:\\Users\\amine\\OneDrive\\Bureau\\IODAA\\venv_python\\new_env\\Lib\\site-packages\\pandas\\core\\generic.py:4591\u001b[0m, in \u001b[0;36mNDFrame._drop_axis\u001b[1;34m(self, labels, axis, level, errors, only_slice)\u001b[0m\n\u001b[0;32m   4589\u001b[0m         new_axis \u001b[39m=\u001b[39m axis\u001b[39m.\u001b[39mdrop(labels, level\u001b[39m=\u001b[39mlevel, errors\u001b[39m=\u001b[39merrors)\n\u001b[0;32m   4590\u001b[0m     \u001b[39melse\u001b[39;00m:\n\u001b[1;32m-> 4591\u001b[0m         new_axis \u001b[39m=\u001b[39m axis\u001b[39m.\u001b[39;49mdrop(labels, errors\u001b[39m=\u001b[39;49merrors)\n\u001b[0;32m   4592\u001b[0m     indexer \u001b[39m=\u001b[39m axis\u001b[39m.\u001b[39mget_indexer(new_axis)\n\u001b[0;32m   4594\u001b[0m \u001b[39m# Case for non-unique axis\u001b[39;00m\n\u001b[0;32m   4595\u001b[0m \u001b[39melse\u001b[39;00m:\n",
      "File \u001b[1;32mc:\\Users\\amine\\OneDrive\\Bureau\\IODAA\\venv_python\\new_env\\Lib\\site-packages\\pandas\\core\\indexes\\base.py:6696\u001b[0m, in \u001b[0;36mIndex.drop\u001b[1;34m(self, labels, errors)\u001b[0m\n\u001b[0;32m   6694\u001b[0m \u001b[39mif\u001b[39;00m mask\u001b[39m.\u001b[39many():\n\u001b[0;32m   6695\u001b[0m     \u001b[39mif\u001b[39;00m errors \u001b[39m!=\u001b[39m \u001b[39m\"\u001b[39m\u001b[39mignore\u001b[39m\u001b[39m\"\u001b[39m:\n\u001b[1;32m-> 6696\u001b[0m         \u001b[39mraise\u001b[39;00m \u001b[39mKeyError\u001b[39;00m(\u001b[39mf\u001b[39m\u001b[39m\"\u001b[39m\u001b[39m{\u001b[39;00m\u001b[39mlist\u001b[39m(labels[mask])\u001b[39m}\u001b[39;00m\u001b[39m not found in axis\u001b[39m\u001b[39m\"\u001b[39m)\n\u001b[0;32m   6697\u001b[0m     indexer \u001b[39m=\u001b[39m indexer[\u001b[39m~\u001b[39mmask]\n\u001b[0;32m   6698\u001b[0m \u001b[39mreturn\u001b[39;00m \u001b[39mself\u001b[39m\u001b[39m.\u001b[39mdelete(indexer)\n",
      "\u001b[1;31mKeyError\u001b[0m: \"['remainder__NA_Sales', 'remainder__EU_Sales', 'remainder__JP_Sales', 'remainder__Other_Sales'] not found in axis\""
     ]
    }
   ],
   "source": [
    "# Prepare the data\n",
    "X = df_ohe.drop(['remainder__Global_Sales','remainder__NA_Sales','remainder__EU_Sales','remainder__JP_Sales',\"remainder__Other_Sales\"], axis=1)\n",
    "\n",
    "X=df_ohe.drop('remainder__Name', axis=1)\n",
    "y = df_ohe['remainder__Global_Sales']\n",
    "\n",
    "X_train, X_test, y_train, y_test = train_test_split(X, y, test_size=0.2)\n",
    "\n",
    "# Create models\n",
    "linear_regression = LinearRegression()\n",
    "ridge = Ridge()\n",
    "lasso = Lasso()\n",
    "\n",
    "# Set up hyperparameter tuning for Ridge and Lasso models\n",
    "param_grid_ridge = {'alpha': [0.01, 0.1, 1, 10, 100]}\n",
    "param_grid_lasso = {'alpha': [0.01, 0.1, 1, 10, 100]}\n",
    "\n",
    "ridge_cv = GridSearchCV(ridge, param_grid_ridge, cv=5)\n",
    "lasso_cv = GridSearchCV(lasso, param_grid_lasso, cv=5)\n",
    "\n",
    "# Create a list of models and their names\n",
    "models = [\n",
    "    ('Linear Regression', linear_regression),\n",
    "    ('Ridge Regression', ridge_cv),\n",
    "    ('Lasso Regression', lasso_cv)\n",
    "]\n",
    "\n",
    "# Train and evaluate models\n",
    "for model_name, model in models:\n",
    "    model.fit(X_train, y_train)\n",
    "    y_pred = model.predict(X_test)\n",
    "    mae = mean_absolute_error(y_test, y_pred)\n",
    "    mse = mean_squared_error(y_test, y_pred)\n",
    "    r2 = r2_score(y_test, y_pred)\n",
    "    \n",
    "    print(f'{model_name}:')\n",
    "    print(f'  Mean Absolute Error: {mae:.4f}')\n",
    "    print(f'  Mean Squared Error: {mse:.4f}')\n",
    "    print(f'  R² Score: {r2:.4f}')\n",
    "    \n",
    "    if hasattr(model, 'best_params_'):\n",
    "        print(f'  Best Parameters: {model.best_params_}')\n",
    "    \n",
    "    print()"
   ]
  },
  {
   "cell_type": "code",
   "execution_count": null,
   "metadata": {},
   "outputs": [],
   "source": [
    "df_ohe=df_ohe.drop('remainder__Name', axis=1)\n"
   ]
  },
  {
   "cell_type": "code",
   "execution_count": null,
   "metadata": {},
   "outputs": [
    {
     "name": "stdout",
     "output_type": "stream",
     "text": [
      "Top correlated features: Index(['remainder__Global_Sales', 'ohe__Developer_Nintendo',\n",
      "       'remainder__Critic_Count', 'remainder__User_Count',\n",
      "       'remainder__Critic_Score', 'ohe__Publisher_Nintendo',\n",
      "       'ohe__Developer_Rockstar North', 'ohe__Developer_Polyphony Digital',\n",
      "       'ohe__Developer_Good Science Studio', 'ohe__Developer_Infinity Ward'],\n",
      "      dtype='object')\n",
      "Features selected by RFE: Index(['remainder__Year_of_Release', 'remainder__NA_Sales',\n",
      "       'remainder__EU_Sales', 'remainder__JP_Sales', 'remainder__Other_Sales',\n",
      "       'remainder__Global_Sales', 'remainder__Critic_Score',\n",
      "       'remainder__Critic_Count', 'remainder__User_Score',\n",
      "       'remainder__User_Count'],\n",
      "      dtype='object')\n"
     ]
    }
   ],
   "source": [
    "\n",
    "corr_matrix = df_ohe.corr()\n",
    "# Select the top k features with the highest correlation with the target variable\n",
    "k = 10\n",
    "top_features = corr_matrix.nlargest(k, 'remainder__Global_Sales')['remainder__Global_Sales'].index\n",
    "\n",
    "# Perform Recursive Feature Elimination\n",
    "n_features_to_select = 10\n",
    "estimator = RandomForestRegressor(n_estimators=100, random_state=42)\n",
    "selector = RFE(estimator, n_features_to_select=n_features_to_select, step=1)\n",
    "selector = selector.fit(X, y)\n",
    "\n",
    "# Get the selected features\n",
    "selected_features = X.columns[selector.support_]\n",
    "\n",
    "print(\"Top correlated features:\", top_features)\n",
    "print(\"Features selected by RFE:\", selected_features)"
   ]
  }
 ],
 "metadata": {
  "kernelspec": {
   "display_name": "env_de_base",
   "language": "python",
   "name": "python3"
  },
  "language_info": {
   "codemirror_mode": {
    "name": "ipython",
    "version": 3
   },
   "file_extension": ".py",
   "mimetype": "text/x-python",
   "name": "python",
   "nbconvert_exporter": "python",
   "pygments_lexer": "ipython3",
   "version": "3.11.3"
  },
  "orig_nbformat": 4
 },
 "nbformat": 4,
 "nbformat_minor": 2
}
