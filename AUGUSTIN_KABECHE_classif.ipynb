{
 "cells": [
  {
   "cell_type": "code",
   "execution_count": 1,
   "id": "7ce8697e",
   "metadata": {},
   "outputs": [],
   "source": [
    "from sklearn.datasets import load_wine\n",
    "import pandas as pd\n",
    "import seaborn as sns\n",
    "import matplotlib.pyplot as plt\n",
    "from scipy.stats import f_oneway\n",
    "from sklearn.model_selection import train_test_split"
   ]
  },
  {
   "cell_type": "markdown",
   "id": "67508f46",
   "metadata": {},
   "source": [
    "# Chargement des données\n",
    "\n",
    "> <span style=\"color:magenta\">Base de données choisie : Pima Indians Diabetes Database</span>\n",
    "\n",
    "> <span style=\"color:magenta\">Objectif : diagnostiquer le diabète à partir d'un certain nombre n'observations</span>"
   ]
  },
  {
   "cell_type": "code",
   "execution_count": 2,
   "id": "e2d13557",
   "metadata": {},
   "outputs": [],
   "source": [
    "tab = pd.read_csv(\"diabetes.csv\")"
   ]
  },
  {
   "cell_type": "code",
   "execution_count": 3,
   "id": "011a4120",
   "metadata": {},
   "outputs": [
    {
     "data": {
      "text/html": [
       "<div>\n",
       "<style scoped>\n",
       "    .dataframe tbody tr th:only-of-type {\n",
       "        vertical-align: middle;\n",
       "    }\n",
       "\n",
       "    .dataframe tbody tr th {\n",
       "        vertical-align: top;\n",
       "    }\n",
       "\n",
       "    .dataframe thead th {\n",
       "        text-align: right;\n",
       "    }\n",
       "</style>\n",
       "<table border=\"1\" class=\"dataframe\">\n",
       "  <thead>\n",
       "    <tr style=\"text-align: right;\">\n",
       "      <th></th>\n",
       "      <th>Pregnancies</th>\n",
       "      <th>Glucose</th>\n",
       "      <th>BloodPressure</th>\n",
       "      <th>SkinThickness</th>\n",
       "      <th>Insulin</th>\n",
       "      <th>BMI</th>\n",
       "      <th>DiabetesPedigreeFunction</th>\n",
       "      <th>Age</th>\n",
       "      <th>Outcome</th>\n",
       "    </tr>\n",
       "  </thead>\n",
       "  <tbody>\n",
       "    <tr>\n",
       "      <th>0</th>\n",
       "      <td>6</td>\n",
       "      <td>148</td>\n",
       "      <td>72</td>\n",
       "      <td>35</td>\n",
       "      <td>0</td>\n",
       "      <td>33.6</td>\n",
       "      <td>0.627</td>\n",
       "      <td>50</td>\n",
       "      <td>1</td>\n",
       "    </tr>\n",
       "    <tr>\n",
       "      <th>1</th>\n",
       "      <td>1</td>\n",
       "      <td>85</td>\n",
       "      <td>66</td>\n",
       "      <td>29</td>\n",
       "      <td>0</td>\n",
       "      <td>26.6</td>\n",
       "      <td>0.351</td>\n",
       "      <td>31</td>\n",
       "      <td>0</td>\n",
       "    </tr>\n",
       "    <tr>\n",
       "      <th>2</th>\n",
       "      <td>8</td>\n",
       "      <td>183</td>\n",
       "      <td>64</td>\n",
       "      <td>0</td>\n",
       "      <td>0</td>\n",
       "      <td>23.3</td>\n",
       "      <td>0.672</td>\n",
       "      <td>32</td>\n",
       "      <td>1</td>\n",
       "    </tr>\n",
       "    <tr>\n",
       "      <th>3</th>\n",
       "      <td>1</td>\n",
       "      <td>89</td>\n",
       "      <td>66</td>\n",
       "      <td>23</td>\n",
       "      <td>94</td>\n",
       "      <td>28.1</td>\n",
       "      <td>0.167</td>\n",
       "      <td>21</td>\n",
       "      <td>0</td>\n",
       "    </tr>\n",
       "    <tr>\n",
       "      <th>4</th>\n",
       "      <td>0</td>\n",
       "      <td>137</td>\n",
       "      <td>40</td>\n",
       "      <td>35</td>\n",
       "      <td>168</td>\n",
       "      <td>43.1</td>\n",
       "      <td>2.288</td>\n",
       "      <td>33</td>\n",
       "      <td>1</td>\n",
       "    </tr>\n",
       "    <tr>\n",
       "      <th>...</th>\n",
       "      <td>...</td>\n",
       "      <td>...</td>\n",
       "      <td>...</td>\n",
       "      <td>...</td>\n",
       "      <td>...</td>\n",
       "      <td>...</td>\n",
       "      <td>...</td>\n",
       "      <td>...</td>\n",
       "      <td>...</td>\n",
       "    </tr>\n",
       "    <tr>\n",
       "      <th>763</th>\n",
       "      <td>10</td>\n",
       "      <td>101</td>\n",
       "      <td>76</td>\n",
       "      <td>48</td>\n",
       "      <td>180</td>\n",
       "      <td>32.9</td>\n",
       "      <td>0.171</td>\n",
       "      <td>63</td>\n",
       "      <td>0</td>\n",
       "    </tr>\n",
       "    <tr>\n",
       "      <th>764</th>\n",
       "      <td>2</td>\n",
       "      <td>122</td>\n",
       "      <td>70</td>\n",
       "      <td>27</td>\n",
       "      <td>0</td>\n",
       "      <td>36.8</td>\n",
       "      <td>0.340</td>\n",
       "      <td>27</td>\n",
       "      <td>0</td>\n",
       "    </tr>\n",
       "    <tr>\n",
       "      <th>765</th>\n",
       "      <td>5</td>\n",
       "      <td>121</td>\n",
       "      <td>72</td>\n",
       "      <td>23</td>\n",
       "      <td>112</td>\n",
       "      <td>26.2</td>\n",
       "      <td>0.245</td>\n",
       "      <td>30</td>\n",
       "      <td>0</td>\n",
       "    </tr>\n",
       "    <tr>\n",
       "      <th>766</th>\n",
       "      <td>1</td>\n",
       "      <td>126</td>\n",
       "      <td>60</td>\n",
       "      <td>0</td>\n",
       "      <td>0</td>\n",
       "      <td>30.1</td>\n",
       "      <td>0.349</td>\n",
       "      <td>47</td>\n",
       "      <td>1</td>\n",
       "    </tr>\n",
       "    <tr>\n",
       "      <th>767</th>\n",
       "      <td>1</td>\n",
       "      <td>93</td>\n",
       "      <td>70</td>\n",
       "      <td>31</td>\n",
       "      <td>0</td>\n",
       "      <td>30.4</td>\n",
       "      <td>0.315</td>\n",
       "      <td>23</td>\n",
       "      <td>0</td>\n",
       "    </tr>\n",
       "  </tbody>\n",
       "</table>\n",
       "<p>768 rows × 9 columns</p>\n",
       "</div>"
      ],
      "text/plain": [
       "     Pregnancies  Glucose  BloodPressure  SkinThickness  Insulin   BMI  \\\n",
       "0              6      148             72             35        0  33.6   \n",
       "1              1       85             66             29        0  26.6   \n",
       "2              8      183             64              0        0  23.3   \n",
       "3              1       89             66             23       94  28.1   \n",
       "4              0      137             40             35      168  43.1   \n",
       "..           ...      ...            ...            ...      ...   ...   \n",
       "763           10      101             76             48      180  32.9   \n",
       "764            2      122             70             27        0  36.8   \n",
       "765            5      121             72             23      112  26.2   \n",
       "766            1      126             60              0        0  30.1   \n",
       "767            1       93             70             31        0  30.4   \n",
       "\n",
       "     DiabetesPedigreeFunction  Age  Outcome  \n",
       "0                       0.627   50        1  \n",
       "1                       0.351   31        0  \n",
       "2                       0.672   32        1  \n",
       "3                       0.167   21        0  \n",
       "4                       2.288   33        1  \n",
       "..                        ...  ...      ...  \n",
       "763                     0.171   63        0  \n",
       "764                     0.340   27        0  \n",
       "765                     0.245   30        0  \n",
       "766                     0.349   47        1  \n",
       "767                     0.315   23        0  \n",
       "\n",
       "[768 rows x 9 columns]"
      ]
     },
     "execution_count": 3,
     "metadata": {},
     "output_type": "execute_result"
    }
   ],
   "source": [
    "tab"
   ]
  },
  {
   "cell_type": "code",
   "execution_count": 4,
   "id": "096a9626",
   "metadata": {},
   "outputs": [],
   "source": [
    "#Séparation de notre jeux de données en set d'entrainement et de validation\n",
    "tabTrain, tabTest = train_test_split(tab, test_size=0.2, random_state=42)"
   ]
  },
  {
   "cell_type": "code",
   "execution_count": 5,
   "id": "6363552d",
   "metadata": {},
   "outputs": [
    {
     "data": {
      "text/plain": [
       "0    500\n",
       "1    268\n",
       "Name: Outcome, dtype: int64"
      ]
     },
     "execution_count": 5,
     "metadata": {},
     "output_type": "execute_result"
    }
   ],
   "source": [
    "tab['Outcome'].value_counts()"
   ]
  },
  {
   "cell_type": "markdown",
   "id": "2c1719e4",
   "metadata": {},
   "source": [
    "> <span style=\"color:magenta\">Attention, nous sommes dans cas de classes déséquilibre. Il faudra doncveiller à choisir la métrique la plus appropriée </span>"
   ]
  },
  {
   "cell_type": "markdown",
   "id": "fc0d6806",
   "metadata": {},
   "source": [
    "# Selection de variable\n",
    "## Approche classique"
   ]
  },
  {
   "cell_type": "markdown",
   "id": "aa2d3f64",
   "metadata": {},
   "source": [
    "> <span style=\"color:magenta\">On réalise des tests statisques classiques afin de determiner quelles sont les variables les plus discriminantes pour déceler le cepage d'origine.</span>"
   ]
  },
  {
   "cell_type": "code",
   "execution_count": 6,
   "id": "06c03c48",
   "metadata": {},
   "outputs": [
    {
     "name": "stdout",
     "output_type": "stream",
     "text": [
      "F-statistic = 39.670227393616074\n",
      "p-value = 5.065127298052554e-10\n"
     ]
    },
    {
     "data": {
      "image/png": "[encoded data removed]",
      "text/plain": [
       "<Figure size 400x200 with 1 Axes>"
      ]
     },
     "metadata": {},
     "output_type": "display_data"
    },
    {
     "name": "stdout",
     "output_type": "stream",
     "text": [
      "F-statistic = 213.1617521780386\n",
      "p-value = 8.935431645287658e-43\n"
     ]
    },
    {
     "data": {
      "image/png": "[encoded data removed]",
      "text/plain": [
       "<Figure size 400x200 with 1 Axes>"
      ]
     },
     "metadata": {},
     "output_type": "display_data"
    },
    {
     "name": "stdout",
     "output_type": "stream",
     "text": [
      "F-statistic = 3.2569503978889918\n",
      "p-value = 0.07151390009774597\n"
     ]
    },
    {
     "data": {
      "image/png": "[encoded data removed]",
      "text/plain": [
       "<Figure size 400x200 with 1 Axes>"
      ]
     },
     "metadata": {},
     "output_type": "display_data"
    },
    {
     "name": "stdout",
     "output_type": "stream",
     "text": [
      "F-statistic = 4.304380905008434\n",
      "p-value = 0.03834770482048333\n"
     ]
    },
    {
     "data": {
      "image/png": "[encoded data removed]",
      "text/plain": [
       "<Figure size 400x200 with 1 Axes>"
      ]
     },
     "metadata": {},
     "output_type": "display_data"
    },
    {
     "name": "stdout",
     "output_type": "stream",
     "text": [
      "F-statistic = 13.281107531096266\n",
      "p-value = 0.0002861864603602735\n"
     ]
    },
    {
     "data": {
      "image/png": "[encoded data removed]",
      "text/plain": [
       "<Figure size 400x200 with 1 Axes>"
      ]
     },
     "metadata": {},
     "output_type": "display_data"
    },
    {
     "name": "stdout",
     "output_type": "stream",
     "text": [
      "F-statistic = 71.77207210224542\n",
      "p-value = 1.2298074873114397e-16\n"
     ]
    },
    {
     "data": {
      "image/png": "[encoded data removed]",
      "text/plain": [
       "<Figure size 400x200 with 1 Axes>"
      ]
     },
     "metadata": {},
     "output_type": "display_data"
    },
    {
     "name": "stdout",
     "output_type": "stream",
     "text": [
      "F-statistic = 23.871300204344447\n",
      "p-value = 1.2546070101485626e-06\n"
     ]
    },
    {
     "data": {
      "image/png": "[encoded data removed]",
      "text/plain": [
       "<Figure size 400x200 with 1 Axes>"
      ]
     },
     "metadata": {},
     "output_type": "display_data"
    },
    {
     "name": "stdout",
     "output_type": "stream",
     "text": [
      "F-statistic = 46.14061123873557\n",
      "p-value = 2.2099754606650332e-11\n"
     ]
    },
    {
     "data": {
      "image/png": "[encoded data removed]",
      "text/plain": [
       "<Figure size 400x200 with 1 Axes>"
      ]
     },
     "metadata": {},
     "output_type": "display_data"
    }
   ],
   "source": [
    "varList = tabTrain.columns[:8].tolist()\n",
    "for var in varList :\n",
    "    \n",
    "    f_statistic, p_value = f_oneway(*[group[var] for name, group in tab.groupby(\"Outcome\")])\n",
    "    print('F-statistic =', f_statistic)\n",
    "    print('p-value =', p_value)\n",
    "    \n",
    "    plt.figure(figsize = (4, 2))\n",
    "    sns.boxplot(data = tabTrain, x = 'Outcome', y = var, orient='v', palette = 'dark', width=0.3)\n",
    "    plt.show()"
   ]
  },
  {
   "cell_type": "markdown",
   "id": "36199fa1",
   "metadata": {},
   "source": [
    "> <span style=\"color:magenta\">Après avoir effectué un test d'ANOVA on peut enlever l variable \"BloodPressure\" , puisque ce dernier n'est en aucun cas discrinant. La variable \"SkinThickness\" est la imite, nous décidons donc de l'enlever.</span>"
   ]
  },
  {
   "cell_type": "code",
   "execution_count": 7,
   "id": "9d7b867d",
   "metadata": {},
   "outputs": [],
   "source": [
    "varToRemove = [\"BloodPressure\", \"SkinThickness\" ]\n",
    "tabTrainClassic = tabTrain.drop(varToRemove, axis=1)\n",
    "tabTestClassic = tabTest.drop(varToRemove, axis=1)"
   ]
  },
  {
   "cell_type": "code",
   "execution_count": 8,
   "id": "78ee5d65",
   "metadata": {},
   "outputs": [
    {
     "data": {
      "text/html": [
       "<div>\n",
       "<style scoped>\n",
       "    .dataframe tbody tr th:only-of-type {\n",
       "        vertical-align: middle;\n",
       "    }\n",
       "\n",
       "    .dataframe tbody tr th {\n",
       "        vertical-align: top;\n",
       "    }\n",
       "\n",
       "    .dataframe thead th {\n",
       "        text-align: right;\n",
       "    }\n",
       "</style>\n",
       "<table border=\"1\" class=\"dataframe\">\n",
       "  <thead>\n",
       "    <tr style=\"text-align: right;\">\n",
       "      <th></th>\n",
       "      <th>Pregnancies</th>\n",
       "      <th>Glucose</th>\n",
       "      <th>Insulin</th>\n",
       "      <th>BMI</th>\n",
       "      <th>DiabetesPedigreeFunction</th>\n",
       "      <th>Age</th>\n",
       "      <th>Outcome</th>\n",
       "    </tr>\n",
       "  </thead>\n",
       "  <tbody>\n",
       "    <tr>\n",
       "      <th>668</th>\n",
       "      <td>6</td>\n",
       "      <td>98</td>\n",
       "      <td>190</td>\n",
       "      <td>34.0</td>\n",
       "      <td>0.430</td>\n",
       "      <td>43</td>\n",
       "      <td>0</td>\n",
       "    </tr>\n",
       "    <tr>\n",
       "      <th>324</th>\n",
       "      <td>2</td>\n",
       "      <td>112</td>\n",
       "      <td>0</td>\n",
       "      <td>35.7</td>\n",
       "      <td>0.148</td>\n",
       "      <td>21</td>\n",
       "      <td>0</td>\n",
       "    </tr>\n",
       "    <tr>\n",
       "      <th>624</th>\n",
       "      <td>2</td>\n",
       "      <td>108</td>\n",
       "      <td>0</td>\n",
       "      <td>30.8</td>\n",
       "      <td>0.158</td>\n",
       "      <td>21</td>\n",
       "      <td>0</td>\n",
       "    </tr>\n",
       "    <tr>\n",
       "      <th>690</th>\n",
       "      <td>8</td>\n",
       "      <td>107</td>\n",
       "      <td>0</td>\n",
       "      <td>24.6</td>\n",
       "      <td>0.856</td>\n",
       "      <td>34</td>\n",
       "      <td>0</td>\n",
       "    </tr>\n",
       "    <tr>\n",
       "      <th>473</th>\n",
       "      <td>7</td>\n",
       "      <td>136</td>\n",
       "      <td>0</td>\n",
       "      <td>29.9</td>\n",
       "      <td>0.210</td>\n",
       "      <td>50</td>\n",
       "      <td>0</td>\n",
       "    </tr>\n",
       "    <tr>\n",
       "      <th>...</th>\n",
       "      <td>...</td>\n",
       "      <td>...</td>\n",
       "      <td>...</td>\n",
       "      <td>...</td>\n",
       "      <td>...</td>\n",
       "      <td>...</td>\n",
       "      <td>...</td>\n",
       "    </tr>\n",
       "    <tr>\n",
       "      <th>355</th>\n",
       "      <td>9</td>\n",
       "      <td>165</td>\n",
       "      <td>0</td>\n",
       "      <td>30.4</td>\n",
       "      <td>0.302</td>\n",
       "      <td>49</td>\n",
       "      <td>1</td>\n",
       "    </tr>\n",
       "    <tr>\n",
       "      <th>534</th>\n",
       "      <td>1</td>\n",
       "      <td>77</td>\n",
       "      <td>56</td>\n",
       "      <td>33.3</td>\n",
       "      <td>1.251</td>\n",
       "      <td>24</td>\n",
       "      <td>0</td>\n",
       "    </tr>\n",
       "    <tr>\n",
       "      <th>344</th>\n",
       "      <td>8</td>\n",
       "      <td>95</td>\n",
       "      <td>0</td>\n",
       "      <td>36.8</td>\n",
       "      <td>0.485</td>\n",
       "      <td>57</td>\n",
       "      <td>0</td>\n",
       "    </tr>\n",
       "    <tr>\n",
       "      <th>296</th>\n",
       "      <td>2</td>\n",
       "      <td>146</td>\n",
       "      <td>360</td>\n",
       "      <td>28.0</td>\n",
       "      <td>0.337</td>\n",
       "      <td>29</td>\n",
       "      <td>1</td>\n",
       "    </tr>\n",
       "    <tr>\n",
       "      <th>462</th>\n",
       "      <td>8</td>\n",
       "      <td>74</td>\n",
       "      <td>49</td>\n",
       "      <td>35.3</td>\n",
       "      <td>0.705</td>\n",
       "      <td>39</td>\n",
       "      <td>0</td>\n",
       "    </tr>\n",
       "  </tbody>\n",
       "</table>\n",
       "<p>154 rows × 7 columns</p>\n",
       "</div>"
      ],
      "text/plain": [
       "     Pregnancies  Glucose  Insulin   BMI  DiabetesPedigreeFunction  Age  \\\n",
       "668            6       98      190  34.0                     0.430   43   \n",
       "324            2      112        0  35.7                     0.148   21   \n",
       "624            2      108        0  30.8                     0.158   21   \n",
       "690            8      107        0  24.6                     0.856   34   \n",
       "473            7      136        0  29.9                     0.210   50   \n",
       "..           ...      ...      ...   ...                       ...  ...   \n",
       "355            9      165        0  30.4                     0.302   49   \n",
       "534            1       77       56  33.3                     1.251   24   \n",
       "344            8       95        0  36.8                     0.485   57   \n",
       "296            2      146      360  28.0                     0.337   29   \n",
       "462            8       74       49  35.3                     0.705   39   \n",
       "\n",
       "     Outcome  \n",
       "668        0  \n",
       "324        0  \n",
       "624        0  \n",
       "690        0  \n",
       "473        0  \n",
       "..       ...  \n",
       "355        1  \n",
       "534        0  \n",
       "344        0  \n",
       "296        1  \n",
       "462        0  \n",
       "\n",
       "[154 rows x 7 columns]"
      ]
     },
     "execution_count": 8,
     "metadata": {},
     "output_type": "execute_result"
    }
   ],
   "source": [
    "tabTestClassic"
   ]
  },
  {
   "cell_type": "code",
   "execution_count": 9,
   "id": "60a57279",
   "metadata": {},
   "outputs": [
    {
     "data": {
      "text/plain": [
       "<AxesSubplot:>"
      ]
     },
     "execution_count": 9,
     "metadata": {},
     "output_type": "execute_result"
    },
    {
     "data": {
      "image/png": "[encoded data removed]",
      "text/plain": [
       "<Figure size 640x480 with 2 Axes>"
      ]
     },
     "metadata": {},
     "output_type": "display_data"
    }
   ],
   "source": [
    "corrTab = tabTrainClassic.iloc[:, :6].corr()\n",
    "sns.heatmap(corrTab, annot=True, cmap='coolwarm',annot_kws={'fontsize': 7})"
   ]
  },
  {
   "cell_type": "markdown",
   "id": "11650cce",
   "metadata": {},
   "source": [
    "> <span style=\"color:magenta\">Aucune variabe n'est à enlever en étudiant la corrélation</span>"
   ]
  },
  {
   "cell_type": "markdown",
   "id": "d2bfde22",
   "metadata": {},
   "source": [
    "## Méthode wrapper\n",
    "### Avec un RFC"
   ]
  },
  {
   "cell_type": "code",
   "execution_count": 10,
   "id": "cc792d70",
   "metadata": {},
   "outputs": [],
   "source": [
    "from sklearn.feature_selection import RFECV\n",
    "from sklearn.ensemble import RandomForestClassifier\n",
    "from sklearn.metrics import make_scorer, balanced_accuracy_score\n",
    "from sklearn.model_selection import GridSearchCV"
   ]
  },
  {
   "cell_type": "code",
   "execution_count": 11,
   "id": "3fdc595f",
   "metadata": {},
   "outputs": [],
   "source": [
    "x = tabTrain.drop(\"Outcome\", axis=1)\n",
    "y = tabTrain[\"Outcome\"]"
   ]
  },
  {
   "cell_type": "code",
   "execution_count": 12,
   "id": "52c7b4a8",
   "metadata": {},
   "outputs": [
    {
     "data": {
      "text/html": [
       "<div>\n",
       "<style scoped>\n",
       "    .dataframe tbody tr th:only-of-type {\n",
       "        vertical-align: middle;\n",
       "    }\n",
       "\n",
       "    .dataframe tbody tr th {\n",
       "        vertical-align: top;\n",
       "    }\n",
       "\n",
       "    .dataframe thead th {\n",
       "        text-align: right;\n",
       "    }\n",
       "</style>\n",
       "<table border=\"1\" class=\"dataframe\">\n",
       "  <thead>\n",
       "    <tr style=\"text-align: right;\">\n",
       "      <th></th>\n",
       "      <th>Pregnancies</th>\n",
       "      <th>Glucose</th>\n",
       "      <th>BloodPressure</th>\n",
       "      <th>SkinThickness</th>\n",
       "      <th>Insulin</th>\n",
       "      <th>BMI</th>\n",
       "      <th>DiabetesPedigreeFunction</th>\n",
       "      <th>Age</th>\n",
       "    </tr>\n",
       "  </thead>\n",
       "  <tbody>\n",
       "    <tr>\n",
       "      <th>60</th>\n",
       "      <td>2</td>\n",
       "      <td>84</td>\n",
       "      <td>0</td>\n",
       "      <td>0</td>\n",
       "      <td>0</td>\n",
       "      <td>0.0</td>\n",
       "      <td>0.304</td>\n",
       "      <td>21</td>\n",
       "    </tr>\n",
       "    <tr>\n",
       "      <th>618</th>\n",
       "      <td>9</td>\n",
       "      <td>112</td>\n",
       "      <td>82</td>\n",
       "      <td>24</td>\n",
       "      <td>0</td>\n",
       "      <td>28.2</td>\n",
       "      <td>1.282</td>\n",
       "      <td>50</td>\n",
       "    </tr>\n",
       "    <tr>\n",
       "      <th>346</th>\n",
       "      <td>1</td>\n",
       "      <td>139</td>\n",
       "      <td>46</td>\n",
       "      <td>19</td>\n",
       "      <td>83</td>\n",
       "      <td>28.7</td>\n",
       "      <td>0.654</td>\n",
       "      <td>22</td>\n",
       "    </tr>\n",
       "    <tr>\n",
       "      <th>294</th>\n",
       "      <td>0</td>\n",
       "      <td>161</td>\n",
       "      <td>50</td>\n",
       "      <td>0</td>\n",
       "      <td>0</td>\n",
       "      <td>21.9</td>\n",
       "      <td>0.254</td>\n",
       "      <td>65</td>\n",
       "    </tr>\n",
       "    <tr>\n",
       "      <th>231</th>\n",
       "      <td>6</td>\n",
       "      <td>134</td>\n",
       "      <td>80</td>\n",
       "      <td>37</td>\n",
       "      <td>370</td>\n",
       "      <td>46.2</td>\n",
       "      <td>0.238</td>\n",
       "      <td>46</td>\n",
       "    </tr>\n",
       "    <tr>\n",
       "      <th>...</th>\n",
       "      <td>...</td>\n",
       "      <td>...</td>\n",
       "      <td>...</td>\n",
       "      <td>...</td>\n",
       "      <td>...</td>\n",
       "      <td>...</td>\n",
       "      <td>...</td>\n",
       "      <td>...</td>\n",
       "    </tr>\n",
       "    <tr>\n",
       "      <th>71</th>\n",
       "      <td>5</td>\n",
       "      <td>139</td>\n",
       "      <td>64</td>\n",
       "      <td>35</td>\n",
       "      <td>140</td>\n",
       "      <td>28.6</td>\n",
       "      <td>0.411</td>\n",
       "      <td>26</td>\n",
       "    </tr>\n",
       "    <tr>\n",
       "      <th>106</th>\n",
       "      <td>1</td>\n",
       "      <td>96</td>\n",
       "      <td>122</td>\n",
       "      <td>0</td>\n",
       "      <td>0</td>\n",
       "      <td>22.4</td>\n",
       "      <td>0.207</td>\n",
       "      <td>27</td>\n",
       "    </tr>\n",
       "    <tr>\n",
       "      <th>270</th>\n",
       "      <td>10</td>\n",
       "      <td>101</td>\n",
       "      <td>86</td>\n",
       "      <td>37</td>\n",
       "      <td>0</td>\n",
       "      <td>45.6</td>\n",
       "      <td>1.136</td>\n",
       "      <td>38</td>\n",
       "    </tr>\n",
       "    <tr>\n",
       "      <th>435</th>\n",
       "      <td>0</td>\n",
       "      <td>141</td>\n",
       "      <td>0</td>\n",
       "      <td>0</td>\n",
       "      <td>0</td>\n",
       "      <td>42.4</td>\n",
       "      <td>0.205</td>\n",
       "      <td>29</td>\n",
       "    </tr>\n",
       "    <tr>\n",
       "      <th>102</th>\n",
       "      <td>0</td>\n",
       "      <td>125</td>\n",
       "      <td>96</td>\n",
       "      <td>0</td>\n",
       "      <td>0</td>\n",
       "      <td>22.5</td>\n",
       "      <td>0.262</td>\n",
       "      <td>21</td>\n",
       "    </tr>\n",
       "  </tbody>\n",
       "</table>\n",
       "<p>614 rows × 8 columns</p>\n",
       "</div>"
      ],
      "text/plain": [
       "     Pregnancies  Glucose  BloodPressure  SkinThickness  Insulin   BMI  \\\n",
       "60             2       84              0              0        0   0.0   \n",
       "618            9      112             82             24        0  28.2   \n",
       "346            1      139             46             19       83  28.7   \n",
       "294            0      161             50              0        0  21.9   \n",
       "231            6      134             80             37      370  46.2   \n",
       "..           ...      ...            ...            ...      ...   ...   \n",
       "71             5      139             64             35      140  28.6   \n",
       "106            1       96            122              0        0  22.4   \n",
       "270           10      101             86             37        0  45.6   \n",
       "435            0      141              0              0        0  42.4   \n",
       "102            0      125             96              0        0  22.5   \n",
       "\n",
       "     DiabetesPedigreeFunction  Age  \n",
       "60                      0.304   21  \n",
       "618                     1.282   50  \n",
       "346                     0.654   22  \n",
       "294                     0.254   65  \n",
       "231                     0.238   46  \n",
       "..                        ...  ...  \n",
       "71                      0.411   26  \n",
       "106                     0.207   27  \n",
       "270                     1.136   38  \n",
       "435                     0.205   29  \n",
       "102                     0.262   21  \n",
       "\n",
       "[614 rows x 8 columns]"
      ]
     },
     "execution_count": 12,
     "metadata": {},
     "output_type": "execute_result"
    }
   ],
   "source": [
    "x"
   ]
  },
  {
   "cell_type": "code",
   "execution_count": 13,
   "id": "e5bd31b7",
   "metadata": {},
   "outputs": [
    {
     "name": "stdout",
     "output_type": "stream",
     "text": [
      "[False  True  True False  True  True  True  True]\n"
     ]
    }
   ],
   "source": [
    "param_grid = {\n",
    "    'n_estimators': [50, 100, 150],\n",
    "    'max_depth': [10, 20, 30],\n",
    "    'min_samples_split': [2, 5, 10]}\n",
    "\n",
    "rfc = RandomForestClassifier()\n",
    "gridSearchRFC = GridSearchCV(rfc, param_grid, cv = 10, scoring = make_scorer(balanced_accuracy_score))\n",
    "gridSearchRFC.fit(x, y)\n",
    "\n",
    "rfc = RandomForestClassifier(**gridSearchRFC.best_params_)\n",
    "scorer = make_scorer(balanced_accuracy_score)\n",
    "selector = RFECV(estimator = rfc, step=1, cv=10, scoring = scorer)\n",
    "selector.fit(x, y)\n",
    "print(selector.support_)"
   ]
  },
  {
   "cell_type": "code",
   "execution_count": 14,
   "id": "bb3ea97d",
   "metadata": {},
   "outputs": [],
   "source": [
    "#supression des colonnes non retenus\n",
    "xTrainFildredRFC = x.iloc[:, selector.support_]\n",
    "tab = tabTest.drop(\"Outcome\", axis=1)\n",
    "xTestFildredRFC = tab.iloc[:, selector.support_]"
   ]
  },
  {
   "cell_type": "code",
   "execution_count": 15,
   "id": "f3785498",
   "metadata": {},
   "outputs": [
    {
     "data": {
      "text/html": [
       "<div>\n",
       "<style scoped>\n",
       "    .dataframe tbody tr th:only-of-type {\n",
       "        vertical-align: middle;\n",
       "    }\n",
       "\n",
       "    .dataframe tbody tr th {\n",
       "        vertical-align: top;\n",
       "    }\n",
       "\n",
       "    .dataframe thead th {\n",
       "        text-align: right;\n",
       "    }\n",
       "</style>\n",
       "<table border=\"1\" class=\"dataframe\">\n",
       "  <thead>\n",
       "    <tr style=\"text-align: right;\">\n",
       "      <th></th>\n",
       "      <th>Glucose</th>\n",
       "      <th>BloodPressure</th>\n",
       "      <th>Insulin</th>\n",
       "      <th>BMI</th>\n",
       "      <th>DiabetesPedigreeFunction</th>\n",
       "      <th>Age</th>\n",
       "    </tr>\n",
       "  </thead>\n",
       "  <tbody>\n",
       "    <tr>\n",
       "      <th>60</th>\n",
       "      <td>84</td>\n",
       "      <td>0</td>\n",
       "      <td>0</td>\n",
       "      <td>0.0</td>\n",
       "      <td>0.304</td>\n",
       "      <td>21</td>\n",
       "    </tr>\n",
       "    <tr>\n",
       "      <th>618</th>\n",
       "      <td>112</td>\n",
       "      <td>82</td>\n",
       "      <td>0</td>\n",
       "      <td>28.2</td>\n",
       "      <td>1.282</td>\n",
       "      <td>50</td>\n",
       "    </tr>\n",
       "    <tr>\n",
       "      <th>346</th>\n",
       "      <td>139</td>\n",
       "      <td>46</td>\n",
       "      <td>83</td>\n",
       "      <td>28.7</td>\n",
       "      <td>0.654</td>\n",
       "      <td>22</td>\n",
       "    </tr>\n",
       "    <tr>\n",
       "      <th>294</th>\n",
       "      <td>161</td>\n",
       "      <td>50</td>\n",
       "      <td>0</td>\n",
       "      <td>21.9</td>\n",
       "      <td>0.254</td>\n",
       "      <td>65</td>\n",
       "    </tr>\n",
       "    <tr>\n",
       "      <th>231</th>\n",
       "      <td>134</td>\n",
       "      <td>80</td>\n",
       "      <td>370</td>\n",
       "      <td>46.2</td>\n",
       "      <td>0.238</td>\n",
       "      <td>46</td>\n",
       "    </tr>\n",
       "    <tr>\n",
       "      <th>...</th>\n",
       "      <td>...</td>\n",
       "      <td>...</td>\n",
       "      <td>...</td>\n",
       "      <td>...</td>\n",
       "      <td>...</td>\n",
       "      <td>...</td>\n",
       "    </tr>\n",
       "    <tr>\n",
       "      <th>71</th>\n",
       "      <td>139</td>\n",
       "      <td>64</td>\n",
       "      <td>140</td>\n",
       "      <td>28.6</td>\n",
       "      <td>0.411</td>\n",
       "      <td>26</td>\n",
       "    </tr>\n",
       "    <tr>\n",
       "      <th>106</th>\n",
       "      <td>96</td>\n",
       "      <td>122</td>\n",
       "      <td>0</td>\n",
       "      <td>22.4</td>\n",
       "      <td>0.207</td>\n",
       "      <td>27</td>\n",
       "    </tr>\n",
       "    <tr>\n",
       "      <th>270</th>\n",
       "      <td>101</td>\n",
       "      <td>86</td>\n",
       "      <td>0</td>\n",
       "      <td>45.6</td>\n",
       "      <td>1.136</td>\n",
       "      <td>38</td>\n",
       "    </tr>\n",
       "    <tr>\n",
       "      <th>435</th>\n",
       "      <td>141</td>\n",
       "      <td>0</td>\n",
       "      <td>0</td>\n",
       "      <td>42.4</td>\n",
       "      <td>0.205</td>\n",
       "      <td>29</td>\n",
       "    </tr>\n",
       "    <tr>\n",
       "      <th>102</th>\n",
       "      <td>125</td>\n",
       "      <td>96</td>\n",
       "      <td>0</td>\n",
       "      <td>22.5</td>\n",
       "      <td>0.262</td>\n",
       "      <td>21</td>\n",
       "    </tr>\n",
       "  </tbody>\n",
       "</table>\n",
       "<p>614 rows × 6 columns</p>\n",
       "</div>"
      ],
      "text/plain": [
       "     Glucose  BloodPressure  Insulin   BMI  DiabetesPedigreeFunction  Age\n",
       "60        84              0        0   0.0                     0.304   21\n",
       "618      112             82        0  28.2                     1.282   50\n",
       "346      139             46       83  28.7                     0.654   22\n",
       "294      161             50        0  21.9                     0.254   65\n",
       "231      134             80      370  46.2                     0.238   46\n",
       "..       ...            ...      ...   ...                       ...  ...\n",
       "71       139             64      140  28.6                     0.411   26\n",
       "106       96            122        0  22.4                     0.207   27\n",
       "270      101             86        0  45.6                     1.136   38\n",
       "435      141              0        0  42.4                     0.205   29\n",
       "102      125             96        0  22.5                     0.262   21\n",
       "\n",
       "[614 rows x 6 columns]"
      ]
     },
     "execution_count": 15,
     "metadata": {},
     "output_type": "execute_result"
    }
   ],
   "source": [
    "xTrainFildredRFC"
   ]
  },
  {
   "cell_type": "markdown",
   "id": "14427952",
   "metadata": {},
   "source": [
    "### Avec un SVM"
   ]
  },
  {
   "cell_type": "code",
   "execution_count": 16,
   "id": "e8a569f7",
   "metadata": {},
   "outputs": [],
   "source": [
    "from sklearn.svm import SVC\n",
    "from sklearn.model_selection import StratifiedKFold\n",
    "from sklearn.metrics import make_scorer, balanced_accuracy_score"
   ]
  },
  {
   "cell_type": "code",
   "execution_count": 17,
   "id": "a3bfc46e",
   "metadata": {},
   "outputs": [
    {
     "name": "stdout",
     "output_type": "stream",
     "text": [
      "{'C': 1, 'gamma': 0.1, 'kernel': 'linear'}\n",
      "Nombre de variables sélectionnées: 8\n",
      "Variables sélectionnées: Index(['Pregnancies', 'Glucose', 'BloodPressure', 'SkinThickness', 'Insulin',\n",
      "       'BMI', 'DiabetesPedigreeFunction', 'Age'],\n",
      "      dtype='object')\n"
     ]
    }
   ],
   "source": [
    "param_grid = {'C': [0.1, 1, 10],\n",
    "              'gamma': [0.1, 1, 10],\n",
    "              'kernel': ['linear', 'rbf', 'sigmoid']}\n",
    "\n",
    "svc = SVC()\n",
    "gridSearchSVM = GridSearchCV(estimator = svc, param_grid = param_grid, cv = 10, scoring = scorer)\n",
    "gridSearchSVM.fit(x, y)\n",
    "print(gridSearchSVM.best_params_)\n",
    "\n",
    "svc = SVC(**gridSearchSVM.best_params_)\n",
    "selector = RFECV(estimator = svc, step=1, cv=10, scoring = scorer)\n",
    "x = tabTrain.drop(\"Outcome\", axis=1)\n",
    "selector.fit(x, y)\n",
    "\n",
    "print(\"Nombre de variables sélectionnées: %d\" % selector.n_features_)\n",
    "print(\"Variables sélectionnées: %s\" % x.columns[selector.support_])\n",
    "\n",
    "xTrainFiltredSVM = x[x.columns[selector.support_]]\n",
    "xTestFiltredSVM = tabTest[tab.columns[selector.support_]]"
   ]
  },
  {
   "cell_type": "code",
   "execution_count": 18,
   "id": "60bbcdf3",
   "metadata": {},
   "outputs": [],
   "source": [
    "tab = tabTrain.drop(\"Outcome\", axis=1)\n",
    "xTrainFiltredSVM = x.iloc[:, selector.support_]"
   ]
  },
  {
   "cell_type": "markdown",
   "id": "05c46e47",
   "metadata": {},
   "source": [
    "# Entrainement et évaluation des performances"
   ]
  },
  {
   "cell_type": "markdown",
   "id": "faa878ec",
   "metadata": {},
   "source": [
    "## RFC sans sélection de variable"
   ]
  },
  {
   "cell_type": "code",
   "execution_count": 19,
   "id": "e9fc4916",
   "metadata": {},
   "outputs": [],
   "source": [
    "results = pd.DataFrame()\n",
    "yTrain = tabTrain[\"Outcome\"]\n",
    "yTest = tabTest[\"Outcome\"]\n",
    "\n",
    "#entrainement sans variable séléctionné sur le RFC\n",
    "param_grid = {\n",
    "    'n_estimators': [50, 100, 150],\n",
    "    'max_depth': [10, 20, 30],\n",
    "    'min_samples_split': [2, 5, 10]}\n",
    "\n",
    "rfcNorm = RandomForestClassifier()\n",
    "gridSearchRFCNorm = GridSearchCV(rfcNorm, param_grid, cv = 10, scoring = make_scorer(balanced_accuracy_score))\n",
    "gridSearchRFCNorm.fit(x, y)\n",
    "\n",
    "rfcNorm = RandomForestClassifier(**gridSearchRFCNorm.best_params_)\n",
    "rfcNorm.fit(x, y)\n",
    "\n",
    "yHatTrain = rfcNorm.predict(x)\n",
    "ballancedAccTrain = balanced_accuracy_score(y, yHatTrain)\n",
    "\n",
    "newRow = pd.DataFrame({\"Methode\": [\"RFC\"], \"Selection de variable\" : [\"aucun\"],\n",
    "                      \"Balanced accuracy\": [ballancedAccTrain], \"Data\" : [\"Cross-val\"]})\n",
    "results = pd.concat([results, newRow])\n",
    "\n",
    "xTest = tabTest.drop(\"Outcome\", axis=1)\n",
    "yTest = tabTest[\"Outcome\"] \n",
    "yHatTest = rfcNorm.predict(xTest)\n",
    "ballancedAccTest = balanced_accuracy_score(yTest, yHatTest)\n",
    "\n",
    "newRow = pd.DataFrame({\"Methode\": [\"RFC\"], \"Selection de variable\" : [\"aucun\"],\n",
    "                      \"Balanced accuracy\": [ballancedAccTest], \"Data\" : [\"Test\"]})\n",
    "results = pd.concat([results, newRow])"
   ]
  },
  {
   "cell_type": "code",
   "execution_count": 20,
   "id": "6c491178",
   "metadata": {},
   "outputs": [
    {
     "data": {
      "image/png": "[encoded data removed]",
      "text/plain": [
       "<Figure size 640x480 with 1 Axes>"
      ]
     },
     "metadata": {},
     "output_type": "display_data"
    }
   ],
   "source": [
    "#Courbe roc\n",
    "from sklearn.metrics import roc_curve, auc\n",
    "fpr, tpr, _ = roc_curve(yTest, yHatTest)\n",
    "roc_auc = auc(fpr, tpr)\n",
    "\n",
    "plt.plot(fpr, tpr, color='darkorange', label='ROC curve (area = %0.2f)' % roc_auc)\n",
    "plt.plot([0, 1], [0, 1], color='navy', linestyle='--')\n",
    "plt.xlim([0.0, 1.0])\n",
    "plt.ylim([0.0, 1.05])\n",
    "plt.xlabel('False Positive Rate')\n",
    "plt.ylabel('True Positive Rate')\n",
    "plt.title('Courbe ROC avec RFC sans séléction de variable')\n",
    "plt.legend(loc=\"lower right\")\n",
    "plt.show()"
   ]
  },
  {
   "cell_type": "markdown",
   "id": "457f9c4e",
   "metadata": {},
   "source": [
    "## RFC avec selection de variable classique"
   ]
  },
  {
   "cell_type": "code",
   "execution_count": 21,
   "id": "53de6991",
   "metadata": {},
   "outputs": [],
   "source": [
    "param_grid = {\n",
    "    'n_estimators': [50, 100, 150],\n",
    "    'max_depth': [10, 20, 30],\n",
    "    'min_samples_split': [2, 5, 10]}\n",
    "\n",
    "rfcClass = RandomForestClassifier()\n",
    "gridSearchRFCClass = GridSearchCV(rfcClass, param_grid, cv = 10, scoring = make_scorer(balanced_accuracy_score))\n",
    "\n",
    "x = tabTrainClassic.drop(\"Outcome\", axis=1)\n",
    "gridSearchRFCClass.fit(x, y)\n",
    "\n",
    "rfcClass = RandomForestClassifier(**gridSearchRFCClass.best_params_)\n",
    "rfcClass.fit(x, y)\n",
    "\n",
    "yHatTrain = rfcClass.predict(x)\n",
    "ballancedAccTrain = balanced_accuracy_score(y, yHatTrain)\n",
    "\n",
    "newRow = pd.DataFrame({\"Methode\": [\"RFC\"], \"Selection de variable\" : [\"classique\"],\n",
    "                      \"Balanced accuracy\": [ballancedAccTrain], \"Data\" : [\"Cross-val\"]})\n",
    "results = pd.concat([results, newRow])\n",
    "\n",
    "xTest = tabTestClassic.drop(\"Outcome\", axis=1)\n",
    "yHatTest = rfcClass.predict(xTest)\n",
    "ballancedAccTest = balanced_accuracy_score(yTest, yHatTest)\n",
    "\n",
    "newRow = pd.DataFrame({\"Methode\": [\"RFC\"], \"Selection de variable\" : [\"classique\"],\n",
    "                      \"Balanced accuracy\": [ballancedAccTest], \"Data\" : [\"Test\"]})\n",
    "results = pd.concat([results, newRow])"
   ]
  },
  {
   "cell_type": "code",
   "execution_count": 22,
   "id": "bb9f3e67",
   "metadata": {},
   "outputs": [
    {
     "data": {
      "image/png": "[encoded data removed]",
      "text/plain": [
       "<Figure size 640x480 with 1 Axes>"
      ]
     },
     "metadata": {},
     "output_type": "display_data"
    }
   ],
   "source": [
    "#Courbe roc\n",
    "fpr, tpr, _ = roc_curve(yTest, yHatTest)\n",
    "roc_auc = auc(fpr, tpr)\n",
    "\n",
    "plt.plot(fpr, tpr, color='darkorange', label='ROC curve (area = %0.2f)' % roc_auc)\n",
    "plt.plot([0, 1], [0, 1], color='navy', linestyle='--')\n",
    "plt.xlim([0.0, 1.0])\n",
    "plt.ylim([0.0, 1.05])\n",
    "plt.xlabel('False Positive Rate')\n",
    "plt.ylabel('True Positive Rate')\n",
    "plt.title('Courbe ROC avec un RFC avec selection de variable classique')\n",
    "plt.legend(loc=\"lower right\")\n",
    "plt.show()"
   ]
  },
  {
   "cell_type": "markdown",
   "id": "adb3b283",
   "metadata": {},
   "source": [
    "## RFC avec selection de variable avec la méthode wrapper"
   ]
  },
  {
   "cell_type": "code",
   "execution_count": 23,
   "id": "c784411d",
   "metadata": {},
   "outputs": [],
   "source": [
    "param_grid = {\n",
    "    'n_estimators': [50, 100, 150],\n",
    "    'max_depth': [10, 20, 30],\n",
    "    'min_samples_split': [2, 5, 10]}\n",
    "\n",
    "rfcWrap = RandomForestClassifier()\n",
    "gridSearchRFCWrap = GridSearchCV(rfcWrap, param_grid, cv = 10, scoring = make_scorer(balanced_accuracy_score))\n",
    "\n",
    "gridSearchRFCWrap.fit(xTrainFildredRFC, y)\n",
    "\n",
    "rfcWrap = RandomForestClassifier(**gridSearchRFCWrap.best_params_)\n",
    "rfcWrap.fit(xTrainFildredRFC, y)\n",
    "\n",
    "yHatTrain = rfcWrap.predict(xTrainFildredRFC)\n",
    "ballancedAccTrain = balanced_accuracy_score(y, yHatTrain)\n",
    "\n",
    "newRow = pd.DataFrame({\"Methode\": [\"RFC\"], \"Selection de variable\" : [\"wrapper\"],\n",
    "                      \"Balanced accuracy\": [ballancedAccTrain], \"Data\" : [\"Cross-val\"]})\n",
    "results = pd.concat([results, newRow])\n",
    "\n",
    "yHatTest = rfcWrap.predict(xTestFildredRFC)\n",
    "ballancedAccTest = balanced_accuracy_score(yTest, yHatTest)\n",
    "\n",
    "newRow = pd.DataFrame({\"Methode\": [\"RFC\"], \"Selection de variable\" : [\"wrapper\"],\n",
    "                      \"Balanced accuracy\": [ballancedAccTest], \"Data\" : [\"Test\"]})\n",
    "results = pd.concat([results, newRow])"
   ]
  },
  {
   "cell_type": "code",
   "execution_count": 24,
   "id": "e4865128",
   "metadata": {},
   "outputs": [
    {
     "data": {
      "image/png": "[encoded data removed]",
      "text/plain": [
       "<Figure size 640x480 with 1 Axes>"
      ]
     },
     "metadata": {},
     "output_type": "display_data"
    }
   ],
   "source": [
    "#Courbe roc\n",
    "fpr, tpr, _ = roc_curve(yTest, yHatTest)\n",
    "roc_auc = auc(fpr, tpr)\n",
    "\n",
    "plt.plot(fpr, tpr, color='darkorange', label='ROC curve (area = %0.2f)' % roc_auc)\n",
    "plt.plot([0, 1], [0, 1], color='navy', linestyle='--')\n",
    "plt.xlim([0.0, 1.0])\n",
    "plt.ylim([0.0, 1.05])\n",
    "plt.xlabel('Faux positifs')\n",
    "plt.ylabel('Vrais positifs')\n",
    "plt.title('Courbe ROC à partir de la RFC avec selection de variable wrapper')\n",
    "plt.legend(loc=\"lower right\")\n",
    "plt.show()"
   ]
  },
  {
   "cell_type": "markdown",
   "id": "c4e409e0",
   "metadata": {},
   "source": [
    "## SVM sans sélection de variable"
   ]
  },
  {
   "cell_type": "code",
   "execution_count": null,
   "id": "ae48c54a",
   "metadata": {},
   "outputs": [],
   "source": [
    "param_grid = {'C': [0.1, 1, 10],\n",
    "              'gamma': [0.1, 1, 10]}\n",
    "\n",
    "svcNorm = SVC(kernel = \"linear\")\n",
    "gridSearchSVMNorm = GridSearchCV(estimator = svcNorm, param_grid = param_grid, cv = 10, scoring = scorer)\n",
    "gridSearchSVMNorm.fit(x, y)\n",
    "\n",
    "svcNorm = SVC(**gridSearchSVMNorm.best_params_)\n",
    "svcNorm.fit(x, y)\n",
    "\n",
    "yHatTrain = svcNorm.predict(x)\n",
    "ballancedAccTrain = balanced_accuracy_score(y, yHatTrain)\n",
    "\n",
    "newRow = pd.DataFrame({\"Methode\": [\"SVM\"], \"Selection de variable\" : [\"aucun\"],\n",
    "                      \"Balanced accuracy\": [ballancedAccTrain], \"Data\" : [\"Cross-val\"]})\n",
    "results = pd.concat([results, newRow])\n",
    "\n",
    "yHatTest = svcNorm.predict(xTest)\n",
    "ballancedAccTest = balanced_accuracy_score(yTest, yHatTest)\n",
    "\n",
    "newRow = pd.DataFrame({\"Methode\": [\"SVM\"], \"Selection de variable\" : [\"aucun\"],\n",
    "                      \"Balanced accuracy\": [ballancedAccTest], \"Data\" : [\"Test\"]})\n",
    "results = pd.concat([results, newRow])"
   ]
  },
  {
   "cell_type": "code",
   "execution_count": null,
   "id": "a4fa1096",
   "metadata": {},
   "outputs": [],
   "source": [
    "#Courbe roc\n",
    "fpr, tpr, _ = roc_curve(yTest, yHatTest)\n",
    "roc_auc = auc(fpr, tpr)\n",
    "\n",
    "plt.plot(fpr, tpr, color='darkorange', label='ROC curve (area = %0.2f)' % roc_auc)\n",
    "plt.plot([0, 1], [0, 1], color='navy', linestyle='--')\n",
    "plt.xlim([0.0, 1.0])\n",
    "plt.ylim([0.0, 1.05])\n",
    "plt.xlabel('Faux positifs')\n",
    "plt.ylabel('Vrais positifs')\n",
    "plt.title('Courbe ROC avec le SVM sans selection de variable')\n",
    "plt.legend(loc=\"lower right\")\n",
    "plt.show()"
   ]
  },
  {
   "cell_type": "markdown",
   "id": "e235539b",
   "metadata": {},
   "source": [
    "## SVM avec selection de variable classique"
   ]
  },
  {
   "cell_type": "code",
   "execution_count": null,
   "id": "c0c990ed",
   "metadata": {},
   "outputs": [],
   "source": [
    "param_grid = {'C': [0.1, 1, 10],\n",
    "              'gamma': [0.1, 1, 10]}\n",
    "\n",
    "svcClass = SVC(kernel = \"linear\")\n",
    "gridSearchSVMClass = GridSearchCV(estimator = svcClass, param_grid = param_grid, cv = 10, scoring = scorer)\n",
    "gridSearchSVMClass.fit(x, y)\n",
    "\n",
    "svcClass = SVC(**gridSearchSVMClass.best_params_)\n",
    "svcClass.fit(x, y)\n",
    "\n",
    "x = tabTrainClassic.drop(\"Outcome\", axis=1)\n",
    "yHatTrain = svcClass.predict(x)\n",
    "ballancedAccTrain = balanced_accuracy_score(y, yHatTrain)\n",
    "\n",
    "newRow = pd.DataFrame({\"Methode\": [\"SVM\"], \"Selection de variable\" : [\"classique\"],\n",
    "                      \"Balanced accuracy\": [ballancedAccTrain], \"Data\" : [\"Cross-val\"]})\n",
    "results = pd.concat([results, newRow])\n",
    "\n",
    "yHatTest = svcClass.predict(xTest)\n",
    "ballancedAccTest = balanced_accuracy_score(yTest, yHatTest)\n",
    "\n",
    "newRow = pd.DataFrame({\"Methode\": [\"SVM\"], \"Selection de variable\" : [\"classique\"],\n",
    "                      \"Balanced accuracy\": [ballancedAccTest], \"Data\" : [\"Test\"]})\n",
    "results = pd.concat([results, newRow])"
   ]
  },
  {
   "cell_type": "code",
   "execution_count": null,
   "id": "7be3a366",
   "metadata": {},
   "outputs": [],
   "source": [
    "#Courbe roc\n",
    "fpr, tpr, _ = roc_curve(yTest, yHatTest)\n",
    "roc_auc = auc(fpr, tpr)\n",
    "\n",
    "plt.plot(fpr, tpr, color='darkorange', label='ROC curve (area = %0.2f)' % roc_auc)\n",
    "plt.plot([0, 1], [0, 1], color='navy', linestyle='--')\n",
    "plt.xlim([0.0, 1.0])\n",
    "plt.ylim([0.0, 1.05])\n",
    "plt.xlabel('Faux positifs')\n",
    "plt.ylabel('Vrais positifs')\n",
    "plt.title('Courbe ROC avec un SVM et selection de variable classique')\n",
    "plt.legend(loc=\"lower right\")\n",
    "plt.show()"
   ]
  },
  {
   "cell_type": "markdown",
   "id": "82b58bae",
   "metadata": {},
   "source": [
    "## SVM avec selection de variable avec la méthode wrapper"
   ]
  },
  {
   "cell_type": "markdown",
   "id": "9dcf4539",
   "metadata": {},
   "source": [
    "> <span style=\"color:magenta\">Aucune variabe n'a été enlevée avec la méthode wrapper</span>"
   ]
  },
  {
   "cell_type": "markdown",
   "id": "5609ada1",
   "metadata": {},
   "source": [
    "# Modèle à retenir"
   ]
  },
  {
   "cell_type": "code",
   "execution_count": null,
   "id": "30258de1",
   "metadata": {},
   "outputs": [],
   "source": [
    "results = results.drop(results[results[\"Data\"] == \"test\"].index)"
   ]
  },
  {
   "cell_type": "code",
   "execution_count": 2,
   "id": "9cb6b240",
   "metadata": {},
   "outputs": [
    {
     "ename": "NameError",
     "evalue": "name 'results' is not defined",
     "output_type": "error",
     "traceback": [
      "\u001b[1;31m---------------------------------------------------------------------------\u001b[0m",
      "\u001b[1;31mNameError\u001b[0m                                 Traceback (most recent call last)",
      "\u001b[1;32m~\\AppData\\Local\\Temp\\ipykernel_1984\\962467392.py\u001b[0m in \u001b[0;36m<module>\u001b[1;34m\u001b[0m\n\u001b[1;32m----> 1\u001b[1;33m \u001b[0mresults\u001b[0m\u001b[1;33m\u001b[0m\u001b[1;33m\u001b[0m\u001b[0m\n\u001b[0m",
      "\u001b[1;31mNameError\u001b[0m: name 'results' is not defined"
     ]
    }
   ],
   "source": [
    "results"
   ]
  },
  {
   "cell_type": "code",
   "execution_count": null,
   "id": "d6a1f392",
   "metadata": {},
   "outputs": [],
   "source": [
    "import seaborn as sns\n",
    "g = sns.FacetGrid(results, col = \"Methode\")\n",
    "g.map_dataframe(sns.barplot, x = \"Selection de variable\", y = \"Balanced accuracy\",\n",
    "                            palette = \"dark\", hue = \"Data\", errorbar = None,width = 0.5)\n",
    "g.tick_params(axis = \"x\", rotation = 60)\n",
    "plt.ylim(0, 1)\n",
    "plt.yticks([0.1*i for i in range(11)])\n",
    "plt.legend(loc = 'upper right')\n",
    "plt.show"
   ]
  }
 ],
 "metadata": {
  "kernelspec": {
   "display_name": "Python 3 (ipykernel)",
   "language": "python",
   "name": "python3"
  },
  "language_info": {
   "codemirror_mode": {
    "name": "ipython",
    "version": 3
   },
   "file_extension": ".py",
   "mimetype": "text/x-python",
   "name": "python",
   "nbconvert_exporter": "python",
   "pygments_lexer": "ipython3",
   "version": "3.9.13"
  }
 },
 "nbformat": 4,
 "nbformat_minor": 5
}
