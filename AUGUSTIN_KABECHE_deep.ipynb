{
 "cells": [
  {
   "cell_type": "code",
   "execution_count": 1,
   "id": "1befb3b8",
   "metadata": {},
   "outputs": [
    {
     "name": "stderr",
     "output_type": "stream",
     "text": [
      "C:\\Users\\delpi\\anaconda3\\lib\\site-packages\\torchvision\\io\\image.py:13: UserWarning: Failed to load image Python extension: Could not find module 'C:\\Users\\delpi\\anaconda3\\Lib\\site-packages\\torchvision\\image.pyd' (or one of its dependencies). Try using the full path with constructor syntax.\n",
      "  warn(f\"Failed to load image Python extension: {e}\")\n"
     ]
    }
   ],
   "source": [
    "import torch\n",
    "import torch.nn as nn\n",
    "from torch.nn import CrossEntropyLoss\n",
    "from torch.optim import Adam\n",
    "from torch.optim.lr_scheduler import StepLR\n",
    "from torch.optim.lr_scheduler import StepLR\n",
    "from torch.utils.data import DataLoader\n",
    "from torch.utils.data import Dataset\n",
    "from torch.utils.data.sampler import SubsetRandomSampler\n",
    "import torchvision\n",
    "from torchvision import transforms\n",
    "import torchvision.models as models\n",
    "\n",
    "import seaborn as sns\n",
    "from random import randint\n",
    "from torch.nn import ReLU\n",
    "import matplotlib.pyplot as plt\n",
    "import numpy as np"
   ]
  },
  {
   "cell_type": "markdown",
   "id": "8f823d8e",
   "metadata": {},
   "source": [
    "> <span style=\"color:magenta\">Base de données choisie : Brain Tumor Classification (MRI) https://www.kaggle.com/datasets/sartajbhuvaji/brain-tumor-classification-mri</span>\n",
    "> <span style=\"color:magenta\">Objectif : detection de différents type de cancer du cerveau à l'aide d'imagerie médicale</span>"
   ]
  },
  {
   "cell_type": "markdown",
   "id": "ea9ff024",
   "metadata": {},
   "source": [
    "# Prétraitement\n",
    "## redimension des images de manière uniforme\n",
    "\n",
    "> <span style=\"color:magenta\">On donne aux images une taille uniforme pour les mettre dans uin data laoder\n",
    "    \n",
    "> <span style=\"color:magenta\">Attention nous avons chosis d'harmoniser la taille des images en 100 par 100. Ce choix est bien évidament discutable puisque la qualité des images sont fotmeent réduit, toutefois, il s'agit pour nous d'un compromis par rapport au temps d'apprentissage</span>"
   ]
  },
  {
   "cell_type": "code",
   "execution_count": 2,
   "id": "c4a79232",
   "metadata": {},
   "outputs": [],
   "source": [
    "from PIL import Image\n",
    "import os\n",
    "\n",
    "input_folder = r\"C:\\Users\\delpi\\Mon Drive\\COURS\\AgroParisTech\\3A IODAA\\PROG\\archive\"\n",
    "\n",
    "if not os.path.exists('brainImage'):\n",
    "    os.makedirs('brainImage')\n",
    "\n",
    "for folder in os.listdir(input_folder):\n",
    "    folder_path = os.path.join(input_folder, folder)\n",
    "    if os.path.isdir(folder_path):\n",
    "        for subfolder in os.listdir(folder_path):\n",
    "            subfolder_path = os.path.join(folder_path, subfolder)\n",
    "            if os.path.isdir(subfolder_path):\n",
    "                for filename in os.listdir(subfolder_path):\n",
    "                    file_path = os.path.join(subfolder_path, filename)\n",
    "                    if os.path.isfile(file_path):\n",
    "                        img = Image.open(file_path)\n",
    "                        img = img.resize((100, 100))\n",
    "                        output_folder = os.path.join('brainImage', folder, subfolder)\n",
    "                        os.makedirs(output_folder, exist_ok=True)\n",
    "                        img.save(os.path.join(output_folder, filename))"
   ]
  },
  {
   "cell_type": "markdown",
   "id": "226e3ee4",
   "metadata": {},
   "source": [
    "## Augmentation des données\n",
    "\n",
    "> <span style=\"color:magenta\">On fait des rotation de 0, 90, 180 degré</span>"
   ]
  },
  {
   "cell_type": "code",
   "execution_count": 3,
   "id": "e2d0a3a2",
   "metadata": {},
   "outputs": [],
   "source": [
    "input_folder = r\"C:\\Users\\delpi\\Mon Drive\\COURS\\AgroParisTech\\3A IODAA\\PROG\\archive\"\n",
    "\n",
    "if not os.path.exists('brainImageAugmented'):\n",
    "    os.makedirs('brainImageAugmented')\n",
    "\n",
    "for folder in os.listdir(input_folder):\n",
    "    folder_path = os.path.join(input_folder, folder)\n",
    "    for subfolder in os.listdir(folder_path):\n",
    "        path = os.path.join(folder_path, subfolder)\n",
    "        if not os.path.isdir(path):\n",
    "            continue\n",
    "        for filename in os.listdir(path):\n",
    "            img_path = os.path.join(path, filename)\n",
    "            img = Image.open(img_path)\n",
    "            img = img.resize((100, 100))\n",
    "            for angle in [0, 90, 180]:\n",
    "                rotated = img.rotate(angle)\n",
    "                rotated_path = os.path.join(\"brainImageAugmented\", folder, subfolder)\n",
    "                os.makedirs(rotated_path, exist_ok=True)\n",
    "                rotated_file_name = f\"{filename[:-4]}_{angle}.jpg\"\n",
    "                rotated.save(os.path.join(rotated_path, rotated_file_name))"
   ]
  },
  {
   "cell_type": "markdown",
   "id": "b3cfd1ef",
   "metadata": {},
   "source": [
    "# Extraction de données"
   ]
  },
  {
   "cell_type": "code",
   "execution_count": 4,
   "id": "d5eb6962",
   "metadata": {},
   "outputs": [],
   "source": [
    "train = torchvision.datasets.ImageFolder(root=r\"C:\\Users\\delpi\\Mon Drive\\COURS\\AgroParisTech\\3A IODAA\\PROG\\brainImage\\Training\", transform=transforms.ToTensor())\n",
    "valPart = int(len(train) * 0.2)\n",
    "trainPart = len(train) - valPart\n",
    "\n",
    "train, val = torch.utils.data.random_split(train, [trainPart, valPart])\n",
    "\n",
    "trainLoader = torch.utils.data.DataLoader(train, batch_size=64, shuffle=True)\n",
    "valLoader = torch.utils.data.DataLoader(val, batch_size=64, shuffle=True)"
   ]
  },
  {
   "cell_type": "code",
   "execution_count": 5,
   "id": "f04faf3a",
   "metadata": {},
   "outputs": [],
   "source": [
    "trainAugmented = torchvision.datasets.ImageFolder(root=r\"C:\\Users\\delpi\\Mon Drive\\COURS\\AgroParisTech\\3A IODAA\\PROG\\brainImageAugmented\\Training\", transform=transforms.ToTensor())\n",
    "valPartAugmented = int(len(trainAugmented) * 0.2)\n",
    "trainPartAugmented = len(trainAugmented) - valPartAugmented\n",
    "\n",
    "trainAugmented, valAugmented = torch.utils.data.random_split(trainAugmented, [trainPartAugmented, valPartAugmented])\n",
    "\n",
    "trainLoaderAugmented = torch.utils.data.DataLoader(trainAugmented, batch_size=64, shuffle=True)\n",
    "valLoaderAugmented = torch.utils.data.DataLoader(valAugmented, batch_size=64, shuffle=True)"
   ]
  },
  {
   "cell_type": "code",
   "execution_count": 6,
   "id": "039996d8",
   "metadata": {},
   "outputs": [],
   "source": [
    "test = torchvision.datasets.ImageFolder(root=r\"C:\\Users\\delpi\\Mon Drive\\COURS\\AgroParisTech\\3A IODAA\\PROG\\brainImage\\Testing\", transform=transforms.ToTensor())\n",
    "testLoader = torch.utils.data.DataLoader(test, batch_size=64, shuffle=True, num_workers=4)"
   ]
  },
  {
   "cell_type": "code",
   "execution_count": 7,
   "id": "0d23fa07",
   "metadata": {},
   "outputs": [],
   "source": [
    "testAugmented = torchvision.datasets.ImageFolder(root=r\"C:\\Users\\delpi\\Mon Drive\\COURS\\AgroParisTech\\3A IODAA\\PROG\\brainImageAUgmented\\Testing\", transform=transforms.ToTensor())\n",
    "testLoaderAugmented = torch.utils.data.DataLoader(testAugmented, batch_size=64, shuffle=True, num_workers=4)"
   ]
  },
  {
   "cell_type": "code",
   "execution_count": 8,
   "id": "b10dfeb5",
   "metadata": {},
   "outputs": [
    {
     "data": {
      "text/plain": [
       "[657, 657, 317, 665]"
      ]
     },
     "execution_count": 8,
     "metadata": {},
     "output_type": "execute_result"
    }
   ],
   "source": [
    "numClasses = len(train.dataset.classes)\n",
    "classCount = [0] * numClasses\n",
    "for images, labels in trainLoader:\n",
    "    for label in labels:\n",
    "        classCount[label] += 1\n",
    "\n",
    "classCount"
   ]
  },
  {
   "cell_type": "markdown",
   "id": "9d695a89",
   "metadata": {},
   "source": [
    "> <span style=\"color:magenta\">Attention au déséquilibre des classes!!</span>"
   ]
  },
  {
   "cell_type": "code",
   "execution_count": 9,
   "id": "a15dcac4",
   "metadata": {},
   "outputs": [
    {
     "name": "stderr",
     "output_type": "stream",
     "text": [
      "C:\\Users\\delpi\\anaconda3\\lib\\site-packages\\torchvision\\models\\_utils.py:208: UserWarning: The parameter 'pretrained' is deprecated since 0.13 and may be removed in the future, please use 'weights' instead.\n",
      "  warnings.warn(\n",
      "C:\\Users\\delpi\\anaconda3\\lib\\site-packages\\torchvision\\models\\_utils.py:223: UserWarning: Arguments other than a weight enum or `None` for 'weights' are deprecated since 0.13 and may be removed in the future. The current behavior is equivalent to passing `weights=ResNet18_Weights.IMAGENET1K_V1`. You can also use `weights=ResNet18_Weights.DEFAULT` to get the most up-to-date weights.\n",
      "  warnings.warn(msg)\n"
     ]
    }
   ],
   "source": [
    "mod = models.resnet18(pretrained=True)\n",
    "for name, param in mod.named_parameters():\n",
    "    if 'fc' not in name:\n",
    "        param.requires_grad = False\n",
    "numFtrs = mod.fc.in_features\n",
    "mod.fc = nn.Linear(numFtrs, len(classCount))\n",
    "\n",
    "modAugmented = models.resnet18(pretrained=True)\n",
    "for name, param in modAugmented.named_parameters():\n",
    "    if 'fc' not in name:\n",
    "        param.requires_grad = False\n",
    "numFtrs = mod.fc.in_features\n",
    "modAugmented.fc = nn.Linear(numFtrs, len(classCount))"
   ]
  },
  {
   "cell_type": "markdown",
   "id": "f5f7ed53",
   "metadata": {},
   "source": [
    "# Entrainement des modèles"
   ]
  },
  {
   "cell_type": "code",
   "execution_count": 10,
   "id": "09774e16",
   "metadata": {},
   "outputs": [],
   "source": [
    "combo = [\"normal\", mod, trainLoader, valLoader, testLoader]\n",
    "comboAugmented = [\"augmented\", modAugmented, trainLoaderAugmented, valLoaderAugmented, testLoaderAugmented]\n",
    "\n",
    "comboList = [combo, comboAugmented]"
   ]
  },
  {
   "cell_type": "code",
   "execution_count": 11,
   "id": "88c02290",
   "metadata": {},
   "outputs": [],
   "source": [
    "def training(model, train, device, optimizer, criterion, scheduler):\n",
    "    model.to(device)\n",
    "    model.train()\n",
    "    running_loss = 0.0\n",
    "    \n",
    "    for inputs, labels in train:\n",
    "        # Move inputs and labels to device\n",
    "        inputs = inputs.to(device)\n",
    "        labels = labels.to(device)\n",
    "        \n",
    "        #gradient reset\n",
    "        optimizer.zero_grad()\n",
    "        outputs = model(inputs)\n",
    "        loss = criterion(outputs, labels)\n",
    "        loss.backward()\n",
    "        optimizer.step()\n",
    "\n",
    "        #saving the mean gradient to see how the model is learning\n",
    "        running_loss += loss.item()\n",
    "    mean_epoch_loss = running_loss / len(train)\n",
    "    return mean_epoch_loss"
   ]
  },
  {
   "cell_type": "code",
   "execution_count": 18,
   "id": "2384700b",
   "metadata": {},
   "outputs": [],
   "source": [
    "from sklearn.metrics import balanced_accuracy_score\n",
    "def perf_eval(model, data, device):\n",
    "    model.eval()\n",
    "    model.to(device)\n",
    "    \n",
    "    model.eval()\n",
    "    trueLabels = []\n",
    "    predictedLabels = []\n",
    "    \n",
    "    with torch.no_grad():\n",
    "        for images, labels in data:\n",
    "            images = images.to(device)\n",
    "            labels = labels.to(device)\n",
    "\n",
    "            outputs = model(images)\n",
    "            _, predicted = torch.max(outputs, dim=1)\n",
    "            \n",
    "            trueLabels.extend(labels.cpu().numpy())\n",
    "            predictedLabels.extend(predicted.cpu().numpy())\n",
    "            \n",
    "            balancedAcc = balanced_accuracy_score(trueLabels, predictedLabels)\n",
    "    return balancedAcc"
   ]
  },
  {
   "cell_type": "code",
   "execution_count": 21,
   "id": "53b77401",
   "metadata": {},
   "outputs": [],
   "source": [
    "def training_loop(modelName:str, model, train, val, numEpochs:int, earlyStoppingThreshold:int,\n",
    "                  trainingPerf, device, optimizer, criterion, scheduler):\n",
    "    counter = 0\n",
    "    for epoch in range(numEpochs):\n",
    "        counter = 0\n",
    "        bestAcc = 0.0\n",
    "        \n",
    "        print(\"state \", modelName,\" : \", str(epoch), \"/\", str(numEpochs))\n",
    "        loss = training(model, train, device, optimizer, criterion, scheduler)\n",
    "        \n",
    "        balancedAccTrain = perf_eval(model, train, device)\n",
    "        balancedAccVal = perf_eval(model, val, device)\n",
    "        \n",
    "        newRow = pd.DataFrame({\"Model\": [modelName, modelName], \"Data\" : [\"train\", \"val\"],\n",
    "                              \"Acc\" : [balancedAccTrain, balancedAccTrain], \"Epoch\" : [epoch, epoch]})\n",
    "        trainingPerf = pd.concat([trainingPerf,newRow])\n",
    "        \n",
    "        if balancedAccVal > bestAcc:\n",
    "            bestAcc = balancedAccVal\n",
    "            counter = 0\n",
    "            bestMod = model.state_dict()\n",
    "        else:\n",
    "            counter += 1\n",
    "        \n",
    "        if counter >= earlyStoppingThreshold:\n",
    "            print(\"Early stopping at epoch: \", epoch)\n",
    "            break\n",
    "    return bestMod, trainingPerf"
   ]
  },
  {
   "cell_type": "code",
   "execution_count": 22,
   "id": "21f664e2",
   "metadata": {},
   "outputs": [
    {
     "name": "stdout",
     "output_type": "stream",
     "text": [
      "state  normal  :  0 / 30\n",
      "state  normal  :  1 / 30\n",
      "state  normal  :  2 / 30\n",
      "state  normal  :  3 / 30\n",
      "state  normal  :  4 / 30\n",
      "state  normal  :  5 / 30\n",
      "state  normal  :  6 / 30\n",
      "state  normal  :  7 / 30\n",
      "state  normal  :  8 / 30\n",
      "state  normal  :  9 / 30\n",
      "state  normal  :  10 / 30\n",
      "state  normal  :  11 / 30\n",
      "state  normal  :  12 / 30\n",
      "state  normal  :  13 / 30\n",
      "state  normal  :  14 / 30\n",
      "state  normal  :  15 / 30\n",
      "state  normal  :  16 / 30\n",
      "state  normal  :  17 / 30\n",
      "state  normal  :  18 / 30\n",
      "state  normal  :  19 / 30\n",
      "state  normal  :  20 / 30\n",
      "state  normal  :  21 / 30\n",
      "state  normal  :  22 / 30\n",
      "state  normal  :  23 / 30\n",
      "state  normal  :  24 / 30\n",
      "state  normal  :  25 / 30\n",
      "state  normal  :  26 / 30\n",
      "state  normal  :  27 / 30\n",
      "state  normal  :  28 / 30\n",
      "state  normal  :  29 / 30\n",
      "state  augmented  :  0 / 30\n",
      "state  augmented  :  1 / 30\n",
      "state  augmented  :  2 / 30\n",
      "state  augmented  :  3 / 30\n",
      "state  augmented  :  4 / 30\n",
      "state  augmented  :  5 / 30\n",
      "state  augmented  :  6 / 30\n",
      "state  augmented  :  7 / 30\n",
      "state  augmented  :  8 / 30\n",
      "state  augmented  :  9 / 30\n",
      "state  augmented  :  10 / 30\n",
      "state  augmented  :  11 / 30\n",
      "state  augmented  :  12 / 30\n",
      "state  augmented  :  13 / 30\n",
      "state  augmented  :  14 / 30\n",
      "state  augmented  :  15 / 30\n",
      "state  augmented  :  16 / 30\n",
      "state  augmented  :  17 / 30\n",
      "state  augmented  :  18 / 30\n",
      "state  augmented  :  19 / 30\n",
      "state  augmented  :  20 / 30\n",
      "state  augmented  :  21 / 30\n",
      "state  augmented  :  22 / 30\n",
      "state  augmented  :  23 / 30\n",
      "state  augmented  :  24 / 30\n",
      "state  augmented  :  25 / 30\n",
      "state  augmented  :  26 / 30\n",
      "state  augmented  :  27 / 30\n",
      "state  augmented  :  28 / 30\n",
      "state  augmented  :  29 / 30\n"
     ]
    }
   ],
   "source": [
    "import pandas as pd\n",
    "trainingPerf = pd.DataFrame()\n",
    "device = torch.device(\"cuda\" if torch.cuda.is_available() else \"cpu\")\n",
    "\n",
    "for combo in comboList:\n",
    "    \n",
    "    modelName = combo[0]\n",
    "    model = combo[1]\n",
    "    train = combo[2]\n",
    "    val = combo[3]\n",
    "    \n",
    "    optimizer = Adam(model.parameters())\n",
    "    criterion = nn.CrossEntropyLoss()\n",
    "    scheduler = StepLR(optimizer, step_size=10)\n",
    "    \n",
    "    bestMod, trainingPerf = training_loop(modelName, model, train, val, 30, 10, trainingPerf,\n",
    "                                          device, optimizer, criterion, scheduler)\n",
    "    path =  modelName + \".pt\"\n",
    "    torch.save(bestMod, path)"
   ]
  },
  {
   "cell_type": "code",
   "execution_count": 26,
   "id": "a898a04a",
   "metadata": {},
   "outputs": [
    {
     "data": {
      "text/html": [
       "<div>\n",
       "<style scoped>\n",
       "    .dataframe tbody tr th:only-of-type {\n",
       "        vertical-align: middle;\n",
       "    }\n",
       "\n",
       "    .dataframe tbody tr th {\n",
       "        vertical-align: top;\n",
       "    }\n",
       "\n",
       "    .dataframe thead th {\n",
       "        text-align: right;\n",
       "    }\n",
       "</style>\n",
       "<table border=\"1\" class=\"dataframe\">\n",
       "  <thead>\n",
       "    <tr style=\"text-align: right;\">\n",
       "      <th></th>\n",
       "      <th>Model</th>\n",
       "      <th>Data</th>\n",
       "      <th>Acc</th>\n",
       "      <th>Epoch</th>\n",
       "    </tr>\n",
       "  </thead>\n",
       "  <tbody>\n",
       "    <tr>\n",
       "      <th>0</th>\n",
       "      <td>normal</td>\n",
       "      <td>train</td>\n",
       "      <td>0.797805</td>\n",
       "      <td>0</td>\n",
       "    </tr>\n",
       "    <tr>\n",
       "      <th>1</th>\n",
       "      <td>normal</td>\n",
       "      <td>val</td>\n",
       "      <td>0.797805</td>\n",
       "      <td>0</td>\n",
       "    </tr>\n",
       "    <tr>\n",
       "      <th>0</th>\n",
       "      <td>normal</td>\n",
       "      <td>train</td>\n",
       "      <td>0.807041</td>\n",
       "      <td>1</td>\n",
       "    </tr>\n",
       "    <tr>\n",
       "      <th>1</th>\n",
       "      <td>normal</td>\n",
       "      <td>val</td>\n",
       "      <td>0.807041</td>\n",
       "      <td>1</td>\n",
       "    </tr>\n",
       "    <tr>\n",
       "      <th>0</th>\n",
       "      <td>normal</td>\n",
       "      <td>train</td>\n",
       "      <td>0.842724</td>\n",
       "      <td>2</td>\n",
       "    </tr>\n",
       "    <tr>\n",
       "      <th>...</th>\n",
       "      <td>...</td>\n",
       "      <td>...</td>\n",
       "      <td>...</td>\n",
       "      <td>...</td>\n",
       "    </tr>\n",
       "    <tr>\n",
       "      <th>1</th>\n",
       "      <td>augmented</td>\n",
       "      <td>val</td>\n",
       "      <td>0.852083</td>\n",
       "      <td>27</td>\n",
       "    </tr>\n",
       "    <tr>\n",
       "      <th>0</th>\n",
       "      <td>augmented</td>\n",
       "      <td>train</td>\n",
       "      <td>0.842318</td>\n",
       "      <td>28</td>\n",
       "    </tr>\n",
       "    <tr>\n",
       "      <th>1</th>\n",
       "      <td>augmented</td>\n",
       "      <td>val</td>\n",
       "      <td>0.842318</td>\n",
       "      <td>28</td>\n",
       "    </tr>\n",
       "    <tr>\n",
       "      <th>0</th>\n",
       "      <td>augmented</td>\n",
       "      <td>train</td>\n",
       "      <td>0.848091</td>\n",
       "      <td>29</td>\n",
       "    </tr>\n",
       "    <tr>\n",
       "      <th>1</th>\n",
       "      <td>augmented</td>\n",
       "      <td>val</td>\n",
       "      <td>0.848091</td>\n",
       "      <td>29</td>\n",
       "    </tr>\n",
       "  </tbody>\n",
       "</table>\n",
       "<p>120 rows × 4 columns</p>\n",
       "</div>"
      ],
      "text/plain": [
       "        Model   Data       Acc  Epoch\n",
       "0      normal  train  0.797805      0\n",
       "1      normal    val  0.797805      0\n",
       "0      normal  train  0.807041      1\n",
       "1      normal    val  0.807041      1\n",
       "0      normal  train  0.842724      2\n",
       "..        ...    ...       ...    ...\n",
       "1   augmented    val  0.852083     27\n",
       "0   augmented  train  0.842318     28\n",
       "1   augmented    val  0.842318     28\n",
       "0   augmented  train  0.848091     29\n",
       "1   augmented    val  0.848091     29\n",
       "\n",
       "[120 rows x 4 columns]"
      ]
     },
     "execution_count": 26,
     "metadata": {},
     "output_type": "execute_result"
    }
   ],
   "source": [
    "trainingPerf"
   ]
  },
  {
   "cell_type": "markdown",
   "id": "aad49256",
   "metadata": {},
   "source": [
    "> <span style=\"color:magenta\">Les objectifs n'ont clairement pas été atteint, le choix de la métrique pour l'apprentissage est à revoir</span>"
   ]
  },
  {
   "cell_type": "code",
   "execution_count": 37,
   "id": "a843130c",
   "metadata": {},
   "outputs": [
    {
     "data": {
      "text/plain": [
       "<AxesSubplot:title={'center':'Model = augmented'}, xlabel='Epoch', ylabel='Acc'>"
      ]
     },
     "execution_count": 37,
     "metadata": {},
     "output_type": "execute_result"
    },
    {
     "data": {
      "image/png": "[encoded data removed]",
      "text/plain": [
       "<Figure size 600x300 with 2 Axes>"
      ]
     },
     "metadata": {},
     "output_type": "display_data"
    }
   ],
   "source": [
    "g = sns.FacetGrid(trainingPerf, col = \"Model\")\n",
    "sns.lineplot(data = trainingPerf, x = \"Epoch\", y = \"Acc\",\n",
    "                            palette = \"dark\", hue = \"Data\", style = \"Data\", markers = True)"
   ]
  },
  {
   "cell_type": "markdown",
   "id": "6baf4b9d",
   "metadata": {},
   "source": [
    "# Evaluation des modèles en inférence et interprétabilité"
   ]
  },
  {
   "cell_type": "code",
   "execution_count": 32,
   "id": "d9cd1521",
   "metadata": {},
   "outputs": [],
   "source": [
    "def getSaliency(model, img, label, modelName):\n",
    "    model.eval()\n",
    "    #img = img.to(device)\n",
    "    img.requires_grad = True\n",
    "    img.grad = None\n",
    "    outputs = nn.Softmax(dim=1)(model(img.unsqueeze(0)))\n",
    "    _, predicted = torch.max(outputs.data, 1)\n",
    "    output=outputs[0,label]\n",
    "    output.backward()\n",
    "    sal=img.grad.abs()\n",
    "    if sal.dim()>2:\n",
    "        sal=torch.max(sal,dim=0)[0]\n",
    "    \n",
    "    print(modelName, \"\\n True label :\", label.item(), \"Predicted label : \", predicted.item())\n",
    "    fig=plt.figure(figsize=(8, 8))\n",
    "    fig.add_subplot(1, 2, 1)\n",
    "    plt.imshow(img.detach().cpu().permute(1,2,0),cmap=\"gray\")\n",
    "\n",
    "    fig.add_subplot(1, 2, 2)\n",
    "    plt.imshow(sal.to('cpu'),cmap=\"seismic\",interpolation=\"bilinear\")\n",
    "    \n",
    "    plt.show()"
   ]
  },
  {
   "cell_type": "code",
   "execution_count": 34,
   "id": "7af9f07b",
   "metadata": {},
   "outputs": [
    {
     "name": "stdout",
     "output_type": "stream",
     "text": [
      "Performance in inference with the normal :  0.6154276481450394\n",
      "Performance in inference with the augmented :  0.5712136515397385\n"
     ]
    }
   ],
   "source": [
    "for combo in comboList:\n",
    "    modName = combo[0]\n",
    "    test = combo[4]\n",
    "    \n",
    "    model = models.resnet18()\n",
    "    num_ftrs = model.fc.in_features\n",
    "    model.fc = nn.Linear(num_ftrs, 4)\n",
    "    state_dict = torch.load(modName + \".pt\")\n",
    "    model.load_state_dict(state_dict)\n",
    "    \n",
    "    perf = perf_eval(model, test, device)\n",
    "    print(\"Performance in inference with the \" + modName + \" : \", perf)"
   ]
  },
  {
   "cell_type": "markdown",
   "id": "56c9ea68",
   "metadata": {},
   "source": [
    "# interprétabilité des modèles"
   ]
  },
  {
   "cell_type": "code",
   "execution_count": 36,
   "id": "5710ee5c",
   "metadata": {},
   "outputs": [
    {
     "ename": "RuntimeError",
     "evalue": "Error(s) in loading state_dict for ResNet:\n\tsize mismatch for fc.weight: copying a param with shape torch.Size([4, 512]) from checkpoint, the shape in current model is torch.Size([2, 512]).\n\tsize mismatch for fc.bias: copying a param with shape torch.Size([4]) from checkpoint, the shape in current model is torch.Size([2]).",
     "output_type": "error",
     "traceback": [
      "\u001b[1;31m---------------------------------------------------------------------------\u001b[0m",
      "\u001b[1;31mRuntimeError\u001b[0m                              Traceback (most recent call last)",
      "\u001b[1;32m~\\AppData\\Local\\Temp\\ipykernel_11780\\212672232.py\u001b[0m in \u001b[0;36m<module>\u001b[1;34m\u001b[0m\n\u001b[0;32m      7\u001b[0m     \u001b[0mmodel\u001b[0m\u001b[1;33m.\u001b[0m\u001b[0mfc\u001b[0m \u001b[1;33m=\u001b[0m \u001b[0mnn\u001b[0m\u001b[1;33m.\u001b[0m\u001b[0mLinear\u001b[0m\u001b[1;33m(\u001b[0m\u001b[0mnum_ftrs\u001b[0m\u001b[1;33m,\u001b[0m \u001b[1;36m2\u001b[0m\u001b[1;33m)\u001b[0m\u001b[1;33m\u001b[0m\u001b[1;33m\u001b[0m\u001b[0m\n\u001b[0;32m      8\u001b[0m     \u001b[0mstate_dict\u001b[0m \u001b[1;33m=\u001b[0m \u001b[0mtorch\u001b[0m\u001b[1;33m.\u001b[0m\u001b[0mload\u001b[0m\u001b[1;33m(\u001b[0m\u001b[0mmodName\u001b[0m \u001b[1;33m+\u001b[0m \u001b[1;34m\".pt\"\u001b[0m\u001b[1;33m)\u001b[0m\u001b[1;33m\u001b[0m\u001b[1;33m\u001b[0m\u001b[0m\n\u001b[1;32m----> 9\u001b[1;33m     \u001b[0mmodel\u001b[0m\u001b[1;33m.\u001b[0m\u001b[0mload_state_dict\u001b[0m\u001b[1;33m(\u001b[0m\u001b[0mstate_dict\u001b[0m\u001b[1;33m)\u001b[0m\u001b[1;33m\u001b[0m\u001b[1;33m\u001b[0m\u001b[0m\n\u001b[0m\u001b[0;32m     10\u001b[0m \u001b[1;33m\u001b[0m\u001b[0m\n\u001b[0;32m     11\u001b[0m     \u001b[0mnb\u001b[0m \u001b[1;33m=\u001b[0m \u001b[1;36m0\u001b[0m\u001b[1;33m\u001b[0m\u001b[1;33m\u001b[0m\u001b[0m\n",
      "\u001b[1;32m~\\anaconda3\\lib\\site-packages\\torch\\nn\\modules\\module.py\u001b[0m in \u001b[0;36mload_state_dict\u001b[1;34m(self, state_dict, strict)\u001b[0m\n\u001b[0;32m   1669\u001b[0m \u001b[1;33m\u001b[0m\u001b[0m\n\u001b[0;32m   1670\u001b[0m         \u001b[1;32mif\u001b[0m \u001b[0mlen\u001b[0m\u001b[1;33m(\u001b[0m\u001b[0merror_msgs\u001b[0m\u001b[1;33m)\u001b[0m \u001b[1;33m>\u001b[0m \u001b[1;36m0\u001b[0m\u001b[1;33m:\u001b[0m\u001b[1;33m\u001b[0m\u001b[1;33m\u001b[0m\u001b[0m\n\u001b[1;32m-> 1671\u001b[1;33m             raise RuntimeError('Error(s) in loading state_dict for {}:\\n\\t{}'.format(\n\u001b[0m\u001b[0;32m   1672\u001b[0m                                self.__class__.__name__, \"\\n\\t\".join(error_msgs)))\n\u001b[0;32m   1673\u001b[0m         \u001b[1;32mreturn\u001b[0m \u001b[0m_IncompatibleKeys\u001b[0m\u001b[1;33m(\u001b[0m\u001b[0mmissing_keys\u001b[0m\u001b[1;33m,\u001b[0m \u001b[0munexpected_keys\u001b[0m\u001b[1;33m)\u001b[0m\u001b[1;33m\u001b[0m\u001b[1;33m\u001b[0m\u001b[0m\n",
      "\u001b[1;31mRuntimeError\u001b[0m: Error(s) in loading state_dict for ResNet:\n\tsize mismatch for fc.weight: copying a param with shape torch.Size([4, 512]) from checkpoint, the shape in current model is torch.Size([2, 512]).\n\tsize mismatch for fc.bias: copying a param with shape torch.Size([4]) from checkpoint, the shape in current model is torch.Size([2])."
     ]
    }
   ],
   "source": [
    "for combo in comboList:\n",
    "    modName = combo[0]\n",
    "    test = combo[4]\n",
    "    \n",
    "    model = models.resnet18()\n",
    "    num_ftrs = model.fc.in_features\n",
    "    model.fc = nn.Linear(num_ftrs, 2)\n",
    "    state_dict = torch.load(modName + \".pt\")\n",
    "    model.load_state_dict(state_dict)\n",
    "    \n",
    "    nb = 0\n",
    "    while nb < 20:\n",
    "        for inputs, labels in val:\n",
    "            for i in range(len(labels)):\n",
    "                getSaliency(model,inputs[i],labels[i], modelName)\n",
    "                nb += 1\n",
    "                if nb == 20:\n",
    "                    break\n",
    "            if nb == 20:\n",
    "                break"
   ]
  }
 ],
 "metadata": {
  "kernelspec": {
   "display_name": "Python 3 (ipykernel)",
   "language": "python",
   "name": "python3"
  },
  "language_info": {
   "codemirror_mode": {
    "name": "ipython",
    "version": 3
   },
   "file_extension": ".py",
   "mimetype": "text/x-python",
   "name": "python",
   "nbconvert_exporter": "python",
   "pygments_lexer": "ipython3",
   "version": "3.9.13"
  }
 },
 "nbformat": 4,
 "nbformat_minor": 5
}
